{
 "cells": [
  {
   "cell_type": "markdown",
   "metadata": {},
   "source": [
    "This notebook demonstrates how chaining `TextModifier`s with `gridsearch.iter_strings` can help solve grid-based puzzles.\n",
    "\n",
    "Here's a hypothetical puzzle (inspired by a puzzle in an old issue of Panda Magazine, which I solved by hand but then used as a test case when writing the grid searching functions):"
   ]
  },
  {
   "cell_type": "markdown",
   "metadata": {},
   "source": [
    "------\n",
    "# By Any Other Name\n",
    "*You're always forgetting the terms for things.*\n",
    "```\n",
    "G S P D N K V N F I I H X I S\n",
    "B E C F F I M V R R G D V A E\n",
    "K J L L G A Z Z E K J Q K M G\n",
    "M M M A O W Z I N A B B E M S\n",
    "W I V U E W N S C U O K U X E\n",
    "S H W U Q R N G C F L N D W L\n",
    "J Q G E S E B D I C S R A U H\n",
    "L M N K N Y F H D P K N T J E\n",
    "R F Q A V C M W E A D M Q O X\n",
    "T V M X P L D I N A G L Z U S\n",
    "A A B H V H B R T H N G H H P\n",
    "Y K P B V L K C A T T A E N S\n",
    "J X V L E Y D K S P O S K R E\n",
    "Q K U A L K X F J K O N W Y K\n",
    "Z R B M P Q Y T L J I C Z F T\n",
    "```\n",
    "* Batavia (7)\n",
    "* Black Panther Homeland (7)\n",
    "* \"Good luck!\" (5 1 3)\n",
    "* Imre Lipschitz (7)\n",
    "* Indescribable (11)\n",
    "* Nobel Prize-winner Shinya (8)\n",
    "* Owl Parrots (7)\n",
    "* Random Mishap (5 8)\n",
    "* Slow Drip (7)\n",
    "* Sudden Strike (5 6)\n",
    "* Ty and Tandy (5 3 6)\n",
    "------"
   ]
  },
  {
   "cell_type": "markdown",
   "metadata": {},
   "source": [
    "So you poke at this for a bit, and you see answers for a few of these clues - you happen to know that Imre Lipschitz changed his last name to Lakatos, that the Indonesian capital of Batavia is now called Jakarta, and that Ty Johnson and Tandy Bowen are the alter-egos of Marvel superhero duo Cloak And Dagger.\n",
    "\n",
    "You don't see any of these in the grid, but you do see \"clonnddagger\" running up the fourth column, so you guess (correctly) that every answer contains the trigram \"aka\", but that trigram has been replaced by another letter before putting them into the actual grid.\n",
    "\n",
    "You could now find the answers for the other clues, hunt through the grid for them, and work from there. But maybe you're eager to move on to other puzzles, and you'd rather have Python do the grunt work of searching the grid for you."
   ]
  },
  {
   "cell_type": "markdown",
   "metadata": {},
   "source": [
    "So first, you parse the grid into a numpy array, using `puztool.parse_grid`, or the shorter alias `puztool.pg`:"
   ]
  },
  {
   "cell_type": "code",
   "execution_count": 1,
   "metadata": {},
   "outputs": [
    {
     "name": "stdout",
     "output_type": "stream",
     "text": [
      "Separating by '\\\\W+'\n",
      "Array is 15 rows x 15 cols of type object\n"
     ]
    }
   ],
   "source": [
    "from puztool import pg, P, lists\n",
    "grid = pg('''\n",
    "G S P D N K V N F I I H X I S\n",
    "B E C F F I M V R R G D V A E\n",
    "K J L L G A Z Z E K J Q K M G\n",
    "M M M A O W Z I N A B B E M S\n",
    "W I V U E W N S C U O K U X E\n",
    "S H W U Q R N G C F L N D W L\n",
    "J Q G E S E B D I C S R A U H\n",
    "L M N K N Y F H D P K N T J E\n",
    "R F Q A V C M W E A D M Q O X\n",
    "T V M X P L D I N A G L Z U S\n",
    "A A B H V H B R T H N G H H P\n",
    "Y K P B V L K C A T T A E N S\n",
    "J X V L E Y D K S P O S K R E\n",
    "Q K U A L K X F J K O N W Y K\n",
    "Z R B M P Q Y T L J I C Z F T\n",
    "'''.lower())"
   ]
  },
  {
   "cell_type": "markdown",
   "metadata": {},
   "source": [
    "You know from the enumerations that the shortest answers are 7 letters long, which means the shortest strings you care about in this grid will be 5 characters long. So you can use `iter_strings` to find all 5+-character strings in the grid. The returned values will be `Result` objects where `.val` is the found string and `.provenance` is a tuple of `(start, end)` showing the coordinates of the first and last letters of that word in the grid. There are several thousand such strings here, so let's just see a few of them:"
   ]
  },
  {
   "cell_type": "code",
   "execution_count": 2,
   "metadata": {},
   "outputs": [
    {
     "name": "stdout",
     "output_type": "stream",
     "text": [
      "gspdn (FromGrid(start=(0, 0), end=(0, 4)),)\n",
      "zagll (FromGrid(start=(2, 6), end=(2, 2)),)\n",
      "shwuqrngcflnd (FromGrid(start=(5, 0), end=(5, 12)),)\n",
      "hmlvb (FromGrid(start=(7, 7), end=(11, 3)),)\n",
      "aabhvhbrthngh (FromGrid(start=(10, 0), end=(10, 12)),)\n",
      "pthaapcfuakri (FromGrid(start=(12, 9), end=(0, 9)),)\n"
     ]
    }
   ],
   "source": [
    "from puztool.grids import iter_strings\n",
    "for i,s in enumerate(iter_strings(grid, len=(5,None))):\n",
    "    if not i%1000: # only show every 1000th because there are a LOT\n",
    "        print(s.val, s.provenance)"
   ]
  },
  {
   "cell_type": "markdown",
   "metadata": {},
   "source": [
    "Now we want to look at all strings that can be produced by taking a string from this and replacing a single character with `'aka'`. We can write this as a `puztool.TextModifier` - a function that takes a `Result` object and returns an iterable of `Result` objects, and automatically knows how to do things like chain with other modifiers. Here's that modifier:"
   ]
  },
  {
   "cell_type": "code",
   "execution_count": 3,
   "metadata": {},
   "outputs": [],
   "source": [
    "def add_aka(result):\n",
    "    s = result.val\n",
    "    for i in range(len(s)):\n",
    "        yield result.extend(s[:i]+'aka'+s[i+1:], (s, i))"
   ]
  },
  {
   "cell_type": "markdown",
   "metadata": {},
   "source": [
    "`Result.extend(val, provenance)` returns a new `Result` with the new value but with the new provenance *appended to* the old provenance. In this case, our `add_aka` processor is adding both the original string and which letter was replaced to the provenance chain so we can refer to it later. Here are the first few results:"
   ]
  },
  {
   "cell_type": "code",
   "execution_count": 4,
   "metadata": {},
   "outputs": [
    {
     "data": {
      "text/plain": [
       "[Result(val='akaspdn', provenance=(FromGrid(start=(0, 0), end=(0, 4)), ('gspdn', 0))),\n",
       " Result(val='gakapdn', provenance=(FromGrid(start=(0, 0), end=(0, 4)), ('gspdn', 1))),\n",
       " Result(val='gsakadn', provenance=(FromGrid(start=(0, 0), end=(0, 4)), ('gspdn', 2))),\n",
       " Result(val='gspakan', provenance=(FromGrid(start=(0, 0), end=(0, 4)), ('gspdn', 3))),\n",
       " Result(val='gspdaka', provenance=(FromGrid(start=(0, 0), end=(0, 4)), ('gspdn', 4))),\n",
       " Result(val='akaspdnk', provenance=(FromGrid(start=(0, 0), end=(0, 5)), ('gspdnk', 0)))]"
      ]
     },
     "execution_count": 4,
     "metadata": {},
     "output_type": "execute_result"
    }
   ],
   "source": [
    "iter_strings(grid, len=(5,None)) | add_aka | P.limit(6).all()"
   ]
  },
  {
   "cell_type": "markdown",
   "metadata": {},
   "source": [
    "Finally, we can restrict the output to words or phrases in a wordlist using a wordlist as a filter. `puztool.lists.<name>` fetches a `WordList` object derived from `data/wordlists/<name>.txt`; this library doesn't ship with any word lists except OSPD because they're all enormous, but I use a list stored as `npl.txt` that is just the NPL's `allwords.txt` with punctuation, spaces, etc. stripped out. So we can filter the thing with:"
   ]
  },
  {
   "cell_type": "code",
   "execution_count": 5,
   "metadata": {},
   "outputs": [
    {
     "data": {
      "text/plain": [
       "[Result(val='freakaccident', provenance=(FromGrid(start=(0, 8), end=(10, 8)), ('frenccident', 3))),\n",
       " Result(val='cloakanddagger', provenance=(FromGrid(start=(1, 2), end=(12, 13)), ('clownddagger', 3))),\n",
       " Result(val='unspeakable', provenance=(FromGrid(start=(4, 12), end=(12, 4)), ('unspeible', 5))),\n",
       " Result(val='lakatos', provenance=(FromGrid(start=(5, 10), end=(9, 14)), ('lrtos', 1))),\n",
       " Result(val='wakanda', provenance=(FromGrid(start=(5, 13), end=(9, 9)), ('wanda', 1))),\n",
       " Result(val='leakage', provenance=(FromGrid(start=(5, 14), end=(1, 14)), ('lesge', 2))),\n",
       " Result(val='leakages', provenance=(FromGrid(start=(5, 14), end=(0, 14)), ('lesges', 2))),\n",
       " Result(val='jakarta', provenance=(FromGrid(start=(6, 0), end=(10, 0)), ('jlrta', 1))),\n",
       " Result(val='breakaleg', provenance=(FromGrid(start=(6, 6), end=(0, 0)), ('brealeg', 3))),\n",
       " Result(val='speakable', provenance=(FromGrid(start=(6, 10), end=(12, 4)), ('speible', 3))),\n",
       " Result(val='yamanaka', provenance=(FromGrid(start=(11, 0), end=(6, 5)), ('yamane', 5))),\n",
       " Result(val='sneakattack', provenance=(FromGrid(start=(11, 14), end=(11, 6)), ('sneattack', 3))),\n",
       " Result(val='kakapos', provenance=(FromGrid(start=(12, 7), end=(12, 11)), ('kspos', 1)))]"
      ]
     },
     "execution_count": 5,
     "metadata": {},
     "output_type": "execute_result"
    }
   ],
   "source": [
    "iter_strings(grid, len=(5,None)) | add_aka | lists.npl | P.all()"
   ]
  },
  {
   "cell_type": "markdown",
   "metadata": {},
   "source": [
    "Now we can run this on the full list of strings in the grid. Since the return values are `Result` objects with same-length provenances, it's helpful to unpack them into a pandas DataFrame so that they render nicely in this notebook."
   ]
  },
  {
   "cell_type": "code",
   "execution_count": 6,
   "metadata": {},
   "outputs": [
    {
     "data": {
      "text/html": [
       "<div>\n",
       "<style scoped>\n",
       "    .dataframe tbody tr th:only-of-type {\n",
       "        vertical-align: middle;\n",
       "    }\n",
       "\n",
       "    .dataframe tbody tr th {\n",
       "        vertical-align: top;\n",
       "    }\n",
       "\n",
       "    .dataframe thead th {\n",
       "        text-align: right;\n",
       "    }\n",
       "</style>\n",
       "<table border=\"1\" class=\"dataframe\">\n",
       "  <thead>\n",
       "    <tr style=\"text-align: right;\">\n",
       "      <th></th>\n",
       "      <th>word</th>\n",
       "      <th>grid_range</th>\n",
       "      <th>aka</th>\n",
       "    </tr>\n",
       "  </thead>\n",
       "  <tbody>\n",
       "    <tr>\n",
       "      <th>0</th>\n",
       "      <td>freakaccident</td>\n",
       "      <td>(0, 8)-&gt;(10, 8)</td>\n",
       "      <td>(frenccident, 3)</td>\n",
       "    </tr>\n",
       "    <tr>\n",
       "      <th>1</th>\n",
       "      <td>cloakanddagger</td>\n",
       "      <td>(1, 2)-&gt;(12, 13)</td>\n",
       "      <td>(clownddagger, 3)</td>\n",
       "    </tr>\n",
       "    <tr>\n",
       "      <th>2</th>\n",
       "      <td>unspeakable</td>\n",
       "      <td>(4, 12)-&gt;(12, 4)</td>\n",
       "      <td>(unspeible, 5)</td>\n",
       "    </tr>\n",
       "    <tr>\n",
       "      <th>3</th>\n",
       "      <td>lakatos</td>\n",
       "      <td>(5, 10)-&gt;(9, 14)</td>\n",
       "      <td>(lrtos, 1)</td>\n",
       "    </tr>\n",
       "    <tr>\n",
       "      <th>4</th>\n",
       "      <td>wakanda</td>\n",
       "      <td>(5, 13)-&gt;(9, 9)</td>\n",
       "      <td>(wanda, 1)</td>\n",
       "    </tr>\n",
       "    <tr>\n",
       "      <th>5</th>\n",
       "      <td>leakage</td>\n",
       "      <td>(5, 14)-&gt;(1, 14)</td>\n",
       "      <td>(lesge, 2)</td>\n",
       "    </tr>\n",
       "    <tr>\n",
       "      <th>6</th>\n",
       "      <td>leakages</td>\n",
       "      <td>(5, 14)-&gt;(0, 14)</td>\n",
       "      <td>(lesges, 2)</td>\n",
       "    </tr>\n",
       "    <tr>\n",
       "      <th>7</th>\n",
       "      <td>jakarta</td>\n",
       "      <td>(6, 0)-&gt;(10, 0)</td>\n",
       "      <td>(jlrta, 1)</td>\n",
       "    </tr>\n",
       "    <tr>\n",
       "      <th>8</th>\n",
       "      <td>breakaleg</td>\n",
       "      <td>(6, 6)-&gt;(0, 0)</td>\n",
       "      <td>(brealeg, 3)</td>\n",
       "    </tr>\n",
       "    <tr>\n",
       "      <th>9</th>\n",
       "      <td>speakable</td>\n",
       "      <td>(6, 10)-&gt;(12, 4)</td>\n",
       "      <td>(speible, 3)</td>\n",
       "    </tr>\n",
       "    <tr>\n",
       "      <th>10</th>\n",
       "      <td>yamanaka</td>\n",
       "      <td>(11, 0)-&gt;(6, 5)</td>\n",
       "      <td>(yamane, 5)</td>\n",
       "    </tr>\n",
       "    <tr>\n",
       "      <th>11</th>\n",
       "      <td>sneakattack</td>\n",
       "      <td>(11, 14)-&gt;(11, 6)</td>\n",
       "      <td>(sneattack, 3)</td>\n",
       "    </tr>\n",
       "    <tr>\n",
       "      <th>12</th>\n",
       "      <td>kakapos</td>\n",
       "      <td>(12, 7)-&gt;(12, 11)</td>\n",
       "      <td>(kspos, 1)</td>\n",
       "    </tr>\n",
       "  </tbody>\n",
       "</table>\n",
       "</div>"
      ],
      "text/plain": [
       "              word         grid_range                aka\n",
       "0    freakaccident    (0, 8)->(10, 8)   (frenccident, 3)\n",
       "1   cloakanddagger   (1, 2)->(12, 13)  (clownddagger, 3)\n",
       "2      unspeakable   (4, 12)->(12, 4)     (unspeible, 5)\n",
       "3          lakatos   (5, 10)->(9, 14)         (lrtos, 1)\n",
       "4          wakanda    (5, 13)->(9, 9)         (wanda, 1)\n",
       "5          leakage   (5, 14)->(1, 14)         (lesge, 2)\n",
       "6         leakages   (5, 14)->(0, 14)        (lesges, 2)\n",
       "7          jakarta    (6, 0)->(10, 0)         (jlrta, 1)\n",
       "8        breakaleg     (6, 6)->(0, 0)       (brealeg, 3)\n",
       "9        speakable   (6, 10)->(12, 4)       (speible, 3)\n",
       "10        yamanaka    (11, 0)->(6, 5)        (yamane, 5)\n",
       "11     sneakattack  (11, 14)->(11, 6)     (sneattack, 3)\n",
       "12         kakapos  (12, 7)->(12, 11)         (kspos, 1)"
      ]
     },
     "execution_count": 6,
     "metadata": {},
     "output_type": "execute_result"
    }
   ],
   "source": [
    "iter_strings(grid, len=(5,None)) | add_aka | lists.npl | P.df(columns=['word', 'grid_range', 'aka'])"
   ]
  },
  {
   "cell_type": "markdown",
   "metadata": {},
   "source": [
    "The above chart shows all the words or phrases found in the grid, followed by the coordinates where the word was located, then followed by the actual string that was in the grid and the index that needs to be replaced by `'aka'` to yield the answer to the clue. Obviously there are a few extras - \"speakable\" and \"leakages\" aren't answers to the clues, they're just coincidental (\"speakable\" is a substring of \"unspeakable\", and \"leakages\" is just because there happened to be an \"s\" after \"leakage\"); we can manually remove these with P.exclude.\n",
    "\n",
    "We can index each FromGrid provenance entry by the number of the changed letter to get the coordinates in the grid of that specific letter; we store that coordinate in a new column `pos`, and store the letter in a new column `a`, then sort by `pos` (i.e., top-to-bottom and then left-to-right, as we'd expect to read them off the grid):\n"
   ]
  },
  {
   "cell_type": "code",
   "execution_count": 7,
   "metadata": {},
   "outputs": [
    {
     "data": {
      "text/html": [
       "<div>\n",
       "<style scoped>\n",
       "    .dataframe tbody tr th:only-of-type {\n",
       "        vertical-align: middle;\n",
       "    }\n",
       "\n",
       "    .dataframe tbody tr th {\n",
       "        vertical-align: top;\n",
       "    }\n",
       "\n",
       "    .dataframe thead th {\n",
       "        text-align: right;\n",
       "    }\n",
       "</style>\n",
       "<table border=\"1\" class=\"dataframe\">\n",
       "  <thead>\n",
       "    <tr style=\"text-align: right;\">\n",
       "      <th></th>\n",
       "      <th>word</th>\n",
       "      <th>grid_range</th>\n",
       "      <th>aka</th>\n",
       "      <th>pos</th>\n",
       "      <th>a</th>\n",
       "    </tr>\n",
       "  </thead>\n",
       "  <tbody>\n",
       "    <tr>\n",
       "      <th>7</th>\n",
       "      <td>breakaleg</td>\n",
       "      <td>(6, 6)-&gt;(0, 0)</td>\n",
       "      <td>(brealeg, 3)</td>\n",
       "      <td>(3, 3)</td>\n",
       "      <td>a</td>\n",
       "    </tr>\n",
       "    <tr>\n",
       "      <th>0</th>\n",
       "      <td>freakaccident</td>\n",
       "      <td>(0, 8)-&gt;(10, 8)</td>\n",
       "      <td>(frenccident, 3)</td>\n",
       "      <td>(3, 8)</td>\n",
       "      <td>n</td>\n",
       "    </tr>\n",
       "    <tr>\n",
       "      <th>5</th>\n",
       "      <td>leakage</td>\n",
       "      <td>(5, 14)-&gt;(1, 14)</td>\n",
       "      <td>(lesge, 2)</td>\n",
       "      <td>(3, 14)</td>\n",
       "      <td>s</td>\n",
       "    </tr>\n",
       "    <tr>\n",
       "      <th>1</th>\n",
       "      <td>cloakanddagger</td>\n",
       "      <td>(1, 2)-&gt;(12, 13)</td>\n",
       "      <td>(clownddagger, 3)</td>\n",
       "      <td>(4, 5)</td>\n",
       "      <td>w</td>\n",
       "    </tr>\n",
       "    <tr>\n",
       "      <th>8</th>\n",
       "      <td>yamanaka</td>\n",
       "      <td>(11, 0)-&gt;(6, 5)</td>\n",
       "      <td>(yamane, 5)</td>\n",
       "      <td>(6, 5)</td>\n",
       "      <td>e</td>\n",
       "    </tr>\n",
       "    <tr>\n",
       "      <th>3</th>\n",
       "      <td>lakatos</td>\n",
       "      <td>(5, 10)-&gt;(9, 14)</td>\n",
       "      <td>(lrtos, 1)</td>\n",
       "      <td>(6, 11)</td>\n",
       "      <td>r</td>\n",
       "    </tr>\n",
       "    <tr>\n",
       "      <th>4</th>\n",
       "      <td>wakanda</td>\n",
       "      <td>(5, 13)-&gt;(9, 9)</td>\n",
       "      <td>(wanda, 1)</td>\n",
       "      <td>(6, 12)</td>\n",
       "      <td>a</td>\n",
       "    </tr>\n",
       "    <tr>\n",
       "      <th>6</th>\n",
       "      <td>jakarta</td>\n",
       "      <td>(6, 0)-&gt;(10, 0)</td>\n",
       "      <td>(jlrta, 1)</td>\n",
       "      <td>(7, 0)</td>\n",
       "      <td>l</td>\n",
       "    </tr>\n",
       "    <tr>\n",
       "      <th>2</th>\n",
       "      <td>unspeakable</td>\n",
       "      <td>(4, 12)-&gt;(12, 4)</td>\n",
       "      <td>(unspeible, 5)</td>\n",
       "      <td>(9, 7)</td>\n",
       "      <td>i</td>\n",
       "    </tr>\n",
       "    <tr>\n",
       "      <th>9</th>\n",
       "      <td>sneakattack</td>\n",
       "      <td>(11, 14)-&gt;(11, 6)</td>\n",
       "      <td>(sneattack, 3)</td>\n",
       "      <td>(11, 11)</td>\n",
       "      <td>a</td>\n",
       "    </tr>\n",
       "    <tr>\n",
       "      <th>10</th>\n",
       "      <td>kakapos</td>\n",
       "      <td>(12, 7)-&gt;(12, 11)</td>\n",
       "      <td>(kspos, 1)</td>\n",
       "      <td>(12, 8)</td>\n",
       "      <td>s</td>\n",
       "    </tr>\n",
       "  </tbody>\n",
       "</table>\n",
       "</div>"
      ],
      "text/plain": [
       "              word         grid_range                aka       pos  a\n",
       "7        breakaleg     (6, 6)->(0, 0)       (brealeg, 3)    (3, 3)  a\n",
       "0    freakaccident    (0, 8)->(10, 8)   (frenccident, 3)    (3, 8)  n\n",
       "5          leakage   (5, 14)->(1, 14)         (lesge, 2)   (3, 14)  s\n",
       "1   cloakanddagger   (1, 2)->(12, 13)  (clownddagger, 3)    (4, 5)  w\n",
       "8         yamanaka    (11, 0)->(6, 5)        (yamane, 5)    (6, 5)  e\n",
       "3          lakatos   (5, 10)->(9, 14)         (lrtos, 1)   (6, 11)  r\n",
       "4          wakanda    (5, 13)->(9, 9)         (wanda, 1)   (6, 12)  a\n",
       "6          jakarta    (6, 0)->(10, 0)         (jlrta, 1)    (7, 0)  l\n",
       "2      unspeakable   (4, 12)->(12, 4)     (unspeible, 5)    (9, 7)  i\n",
       "9      sneakattack  (11, 14)->(11, 6)     (sneattack, 3)  (11, 11)  a\n",
       "10         kakapos  (12, 7)->(12, 11)         (kspos, 1)   (12, 8)  s"
      ]
     },
     "execution_count": 7,
     "metadata": {},
     "output_type": "execute_result"
    }
   ],
   "source": [
    "df = iter_strings(grid, len=(5,None)) | add_aka | lists.npl | P.exclude(\"speakable\", \"leakages\") | P.df(columns=['word', 'grid_range', 'aka'])\n",
    "df['pos'] = [r.grid_range[r.aka[1]] for r in df.itertuples()]\n",
    "df['a'] = [x[y] for x,y in df['aka']]\n",
    "df.sort_values('pos')"
   ]
  },
  {
   "cell_type": "markdown",
   "metadata": {},
   "source": [
    "In case that's unclear, we can extract the actual letters to a string pretty easily:"
   ]
  },
  {
   "cell_type": "code",
   "execution_count": 8,
   "metadata": {},
   "outputs": [
    {
     "data": {
      "text/plain": [
       "'answeralias'"
      ]
     },
     "execution_count": 8,
     "metadata": {},
     "output_type": "execute_result"
    }
   ],
   "source": [
    "''.join(df.sort_values('pos')['a'])"
   ]
  },
  {
   "cell_type": "markdown",
   "metadata": {},
   "source": [
    "The answer to the puzzle, therefore, is **alias**."
   ]
  }
 ],
 "metadata": {
  "kernelspec": {
   "display_name": "Python 3",
   "language": "python",
   "name": "python3"
  },
  "language_info": {
   "codemirror_mode": {
    "name": "ipython",
    "version": 3
   },
   "file_extension": ".py",
   "mimetype": "text/x-python",
   "name": "python",
   "nbconvert_exporter": "python",
   "pygments_lexer": "ipython3",
   "version": "3.9.1"
  }
 },
 "nbformat": 4,
 "nbformat_minor": 4
}

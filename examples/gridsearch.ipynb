{
 "cells": [
  {
   "cell_type": "markdown",
   "metadata": {},
   "source": [
    "This notebook demonstrates how chaining `TextModifier`s with `gridsearch.iter_strings` can help solve grid-based puzzles.\n",
    "\n",
    "Here's a hypothetical puzzle (inspired by a puzzle in an old issue of Panda Magazine, which I solved by hand but then used as a test case when writing the grid searching functions):"
   ]
  },
  {
   "cell_type": "markdown",
   "metadata": {},
   "source": [
    "------\n",
    "# By Any Other Name\n",
    "*You're always forgetting the terms for things.*\n",
    "```\n",
    "Y Q A Y Y C O Z F Y X U J H A  \n",
    "C I T C R A D N A W I N K F T  \n",
    "S Z R X I N X M R Y B S C R V  \n",
    "L L W R Q S A X P O B P A E I  \n",
    "L L J E D N N U F K R E T S K  \n",
    "U W K G S G Z A Y Z E I T C Q  \n",
    "O B T G L V H S B P A B L C M  \n",
    "S D O A O S M O M U L L E I H  \n",
    "M P M D V C Y P S L E E N D D  \n",
    "K G O D Q P F E L Z G O S E F  \n",
    "E G F N F V G K S O T R L N S  \n",
    "Y X W N G A Y S J V J P L T W  \n",
    "Y E S O E Q D N W F F R A E L  \n",
    "I O W L O O S C T E H G J X A  \n",
    "Z U A C L O B A U K U V M Y C\n",
    "```\n",
    "* Batavia (7)\n",
    "* Black Panther Homeland (7)\n",
    "* \"Good luck!\" (5 1 3)\n",
    "* Imre Lipschitz (7)\n",
    "* Indescribable (11)\n",
    "* Nobel Prize-winner Shinya (8)\n",
    "* Owl Parrots (7)\n",
    "* Random Mishap (5 8)\n",
    "* Slow Drip (7)\n",
    "* Sudden Strike (5 6)\n",
    "* Ty and Tandy (5 3 6)\n",
    "------"
   ]
  },
  {
   "cell_type": "markdown",
   "metadata": {},
   "source": [
    "So you poke at this for a bit, and you see answers for a few of these clues - you happen to know that Imre Lipschitz changed his last name to Lakatos, that the Indonesian capital of Batavia is now called Jakarta, and that Ty Johnson and Tandy Bowen are the alter-egos of Marvel superhero duo Cloak And Dagger.\n",
    "\n",
    "You don't see any of these in the grid, but you do see \"clonnddagger\" running up the fourth column, so you guess (correctly) that every answer contains the trigram \"aka\", but that trigram has been replaced by another letter before putting them into the actual grid.\n",
    "\n",
    "You could now find the answers for the other clues, hunt through the grid for them, and work from there. But maybe you're eager to move on to other puzzles, and you'd rather have Python do the grunt work of searching the grid for you!"
   ]
  },
  {
   "cell_type": "markdown",
   "metadata": {},
   "source": [
    "So first, you parse the grid into a numpy array, using `puztool.parse_grid`, or the shorter alias `puztool.pg`:"
   ]
  },
  {
   "cell_type": "code",
   "execution_count": 1,
   "metadata": {},
   "outputs": [],
   "source": [
    "from puztool import pg\n",
    "grid = pg('''\n",
    "Y Q A Y Y C O Z F Y X U J H A  \n",
    "C I T C R A D N A W I N K F T  \n",
    "S Z R X I N X M R Y B S C R V  \n",
    "L L W R Q S A X P O B P A E I  \n",
    "L L J E D N N U F K R E T S K  \n",
    "U W K G S G Z A Y Z E I T C Q  \n",
    "O B T G L V H S B P A B L C M  \n",
    "S D O A O S M O M U L L E I H  \n",
    "M P M D V C Y P S L E E N D D  \n",
    "K G O D Q P F E L Z G O S E F  \n",
    "E G F N F V G K S O T R L N S  \n",
    "Y X W N G A Y S J V J P L T W  \n",
    "Y E S O E Q D N W F F R A E L  \n",
    "I O W L O O S C T E H G J X A  \n",
    "Z U A C L O B A U K U V M Y C\n",
    "'''.lower())"
   ]
  },
  {
   "cell_type": "markdown",
   "metadata": {},
   "source": [
    "You know from the enumerations that the shortest answers are 7 letters long, which means the shortest strings you care about in this grid will be 5 characters long. So you can use `iter_strings` to find all 5+-character strings in the grid. The returned values will be `Result` objects where `.val` is the found string and `.provenance` is a tuple of `(start, end)` showing the coordinates of the first and last letters of that word in the grid. There are 5920 strings here, so let's just see a few of them:"
   ]
  },
  {
   "cell_type": "code",
   "execution_count": 2,
   "metadata": {},
   "outputs": [
    {
     "name": "stdout",
     "output_type": "stream",
     "text": [
      "yqayy (FromGrid(start=(0, 0), end=(0, 4)),)\n",
      "xnixr (FromGrid(start=(2, 6), end=(2, 2)),)\n",
      "uwkgsgzayzeit (FromGrid(start=(5, 0), end=(5, 12)),)\n",
      "oypfn (FromGrid(start=(7, 7), end=(11, 3)),)\n",
      "egfnfvgksotrl (FromGrid(start=(10, 0), end=(10, 12)),)\n",
      "fvozlupzkoywy (FromGrid(start=(12, 9), end=(0, 9)),)\n"
     ]
    }
   ],
   "source": [
    "from puztool.gridsearch import iter_strings\n",
    "for i,s in enumerate(iter_strings(grid, len=(5,None))):\n",
    "    if not i%1000: # only show every 1000th because there are a LOT\n",
    "        print(s.val, s.provenance)"
   ]
  },
  {
   "cell_type": "markdown",
   "metadata": {},
   "source": [
    "Now we want to look at all strings that can be produced by taking a string from this and replacing a single character with `'aka'`. We can write this as a `puztool.TextModifier` - a function that takes a `Result` object and returns an iterable of `Result` objects, and automatically knows how to do things like chain with other modifiers. Here's that modifier:"
   ]
  },
  {
   "cell_type": "code",
   "execution_count": 3,
   "metadata": {},
   "outputs": [],
   "source": [
    "def add_aka(result):\n",
    "    s = result.val\n",
    "    for i in range(len(s)):\n",
    "        yield result.extend(s[:i]+'aka'+s[i+1:], (s, s[i]))"
   ]
  },
  {
   "cell_type": "markdown",
   "metadata": {},
   "source": [
    "`Result.extend(val, provenance)` returns a new `Result` with the new value but with the new provenance *appended to* the old provenance. In this case, our `add_aka` processor is adding both the original string and which letter was replaced to the provenance chain so we can refer to it later. Thus, a single result looks like this:"
   ]
  },
  {
   "cell_type": "code",
   "execution_count": 4,
   "metadata": {},
   "outputs": [
    {
     "name": "stdout",
     "output_type": "stream",
     "text": [
      "Result(val='akaqayy', provenance=(FromGrid(start=(0, 0), end=(0, 4)), ('yqayy', 'y')))\n"
     ]
    }
   ],
   "source": [
    "result = (iter_strings(grid, len=(5,None)) | add_aka).first()\n",
    "print(repr(result))"
   ]
  },
  {
   "cell_type": "markdown",
   "metadata": {},
   "source": [
    "Finally, we can restrict the output to words or phrases in a wordlist using the `puztool.In` modifier as a filter. `puztool.lists.<name>` fetches a `WordList` object derived from `data/wordlists/<name>.txt`; this library doesn't ship with any word lists because they're all enormous, but I use a list stored as `npl.txt` that is just the NPL's `allwords.txt` with punctuation, spaces, etc. stripped out. So we can join `add_aka` to a filter with:"
   ]
  },
  {
   "cell_type": "code",
   "execution_count": 5,
   "metadata": {},
   "outputs": [],
   "source": [
    "from puztool import lists\n",
    "from puztool.pipeline import Pipeline\n",
    "check = Pipeline.from_item_mod(add_aka) | lists.npl"
   ]
  },
  {
   "cell_type": "markdown",
   "metadata": {},
   "source": [
    "Now we can run this on the full list of strings in the grid. Since the return values are `Result` objects with same-length provenances, it's helpful to unpack them into a pandas DataFrame so that they render nicely in this notebook:"
   ]
  },
  {
   "cell_type": "code",
   "execution_count": 8,
   "metadata": {},
   "outputs": [
    {
     "ename": "AttributeError",
     "evalue": "'Pipeline' object has no attribute 'df'",
     "output_type": "error",
     "traceback": [
      "\u001b[0;31m---------------------------------------------------------------------------\u001b[0m",
      "\u001b[0;31mAttributeError\u001b[0m                            Traceback (most recent call last)",
      "\u001b[0;32m<ipython-input-8-17e06708fe71>\u001b[0m in \u001b[0;36m<module>\u001b[0;34m\u001b[0m\n\u001b[1;32m      1\u001b[0m \u001b[0mp\u001b[0m \u001b[0;34m=\u001b[0m \u001b[0miter_strings\u001b[0m\u001b[0;34m(\u001b[0m\u001b[0mgrid\u001b[0m\u001b[0;34m,\u001b[0m \u001b[0mlen\u001b[0m\u001b[0;34m=\u001b[0m\u001b[0;34m(\u001b[0m\u001b[0;36m5\u001b[0m\u001b[0;34m,\u001b[0m\u001b[0;32mNone\u001b[0m\u001b[0;34m)\u001b[0m\u001b[0;34m)\u001b[0m \u001b[0;34m|\u001b[0m \u001b[0madd_aka\u001b[0m \u001b[0;34m|\u001b[0m \u001b[0mlists\u001b[0m\u001b[0;34m.\u001b[0m\u001b[0mnpl\u001b[0m\u001b[0;34m\u001b[0m\u001b[0m\n\u001b[0;32m----> 2\u001b[0;31m \u001b[0mp\u001b[0m\u001b[0;34m.\u001b[0m\u001b[0mdf\u001b[0m\u001b[0;34m(\u001b[0m\u001b[0;34m)\u001b[0m\u001b[0;34m\u001b[0m\u001b[0m\n\u001b[0m",
      "\u001b[0;31mAttributeError\u001b[0m: 'Pipeline' object has no attribute 'df'"
     ]
    }
   ],
   "source": [
    "p = iter_strings(grid, len=(5,None)) | add_aka | lists.npl\n",
    "p.df()"
   ]
  },
  {
   "cell_type": "code",
   "execution_count": 6,
   "metadata": {},
   "outputs": [
    {
     "data": {
      "text/html": [
       "<div>\n",
       "<style scoped>\n",
       "    .dataframe tbody tr th:only-of-type {\n",
       "        vertical-align: middle;\n",
       "    }\n",
       "\n",
       "    .dataframe tbody tr th {\n",
       "        vertical-align: top;\n",
       "    }\n",
       "\n",
       "    .dataframe thead th {\n",
       "        text-align: right;\n",
       "    }\n",
       "</style>\n",
       "<table border=\"1\" class=\"dataframe\">\n",
       "  <thead>\n",
       "    <tr style=\"text-align: right;\">\n",
       "      <th></th>\n",
       "      <th>0</th>\n",
       "      <th>1</th>\n",
       "      <th>2</th>\n",
       "    </tr>\n",
       "  </thead>\n",
       "  <tbody>\n",
       "    <tr>\n",
       "      <th>0</th>\n",
       "      <td>yamanaka</td>\n",
       "      <td>(0, 9)-&gt;(5, 4)</td>\n",
       "      <td>(yamans, s)</td>\n",
       "    </tr>\n",
       "    <tr>\n",
       "      <th>1</th>\n",
       "      <td>unspeakable</td>\n",
       "      <td>(0, 11)-&gt;(8, 11)</td>\n",
       "      <td>(unspeible, i)</td>\n",
       "    </tr>\n",
       "    <tr>\n",
       "      <th>2</th>\n",
       "      <td>wakanda</td>\n",
       "      <td>(1, 9)-&gt;(1, 5)</td>\n",
       "      <td>(wanda, a)</td>\n",
       "    </tr>\n",
       "    <tr>\n",
       "      <th>3</th>\n",
       "      <td>freakaccident</td>\n",
       "      <td>(1, 13)-&gt;(11, 13)</td>\n",
       "      <td>(fresccident, s)</td>\n",
       "    </tr>\n",
       "    <tr>\n",
       "      <th>4</th>\n",
       "      <td>speakable</td>\n",
       "      <td>(2, 11)-&gt;(8, 11)</td>\n",
       "      <td>(speible, i)</td>\n",
       "    </tr>\n",
       "    <tr>\n",
       "      <th>5</th>\n",
       "      <td>breakaleg</td>\n",
       "      <td>(3, 10)-&gt;(9, 10)</td>\n",
       "      <td>(brealeg, a)</td>\n",
       "    </tr>\n",
       "    <tr>\n",
       "      <th>6</th>\n",
       "      <td>jakarta</td>\n",
       "      <td>(4, 2)-&gt;(0, 2)</td>\n",
       "      <td>(jwrta, w)</td>\n",
       "    </tr>\n",
       "    <tr>\n",
       "      <th>7</th>\n",
       "      <td>sneakattack</td>\n",
       "      <td>(9, 12)-&gt;(1, 12)</td>\n",
       "      <td>(snelttack, l)</td>\n",
       "    </tr>\n",
       "    <tr>\n",
       "      <th>8</th>\n",
       "      <td>kakapos</td>\n",
       "      <td>(10, 7)-&gt;(6, 7)</td>\n",
       "      <td>(kepos, e)</td>\n",
       "    </tr>\n",
       "    <tr>\n",
       "      <th>9</th>\n",
       "      <td>lakatos</td>\n",
       "      <td>(10, 12)-&gt;(10, 8)</td>\n",
       "      <td>(lrtos, r)</td>\n",
       "    </tr>\n",
       "    <tr>\n",
       "      <th>10</th>\n",
       "      <td>leakage</td>\n",
       "      <td>(13, 3)-&gt;(9, 7)</td>\n",
       "      <td>(leage, a)</td>\n",
       "    </tr>\n",
       "    <tr>\n",
       "      <th>11</th>\n",
       "      <td>leakages</td>\n",
       "      <td>(13, 3)-&gt;(8, 8)</td>\n",
       "      <td>(leages, a)</td>\n",
       "    </tr>\n",
       "    <tr>\n",
       "      <th>12</th>\n",
       "      <td>cloakanddagger</td>\n",
       "      <td>(14, 3)-&gt;(3, 3)</td>\n",
       "      <td>(clonnddagger, n)</td>\n",
       "    </tr>\n",
       "  </tbody>\n",
       "</table>\n",
       "</div>"
      ],
      "text/plain": [
       "                 0                  1                  2\n",
       "0         yamanaka     (0, 9)->(5, 4)        (yamans, s)\n",
       "1      unspeakable   (0, 11)->(8, 11)     (unspeible, i)\n",
       "2          wakanda     (1, 9)->(1, 5)         (wanda, a)\n",
       "3    freakaccident  (1, 13)->(11, 13)   (fresccident, s)\n",
       "4        speakable   (2, 11)->(8, 11)       (speible, i)\n",
       "5        breakaleg   (3, 10)->(9, 10)       (brealeg, a)\n",
       "6          jakarta     (4, 2)->(0, 2)         (jwrta, w)\n",
       "7      sneakattack   (9, 12)->(1, 12)     (snelttack, l)\n",
       "8          kakapos    (10, 7)->(6, 7)         (kepos, e)\n",
       "9          lakatos  (10, 12)->(10, 8)         (lrtos, r)\n",
       "10         leakage    (13, 3)->(9, 7)         (leage, a)\n",
       "11        leakages    (13, 3)->(8, 8)        (leages, a)\n",
       "12  cloakanddagger    (14, 3)->(3, 3)  (clonnddagger, n)"
      ]
     },
     "execution_count": 6,
     "metadata": {},
     "output_type": "execute_result"
    }
   ],
   "source": [
    "import pandas as pd\n",
    "results = iter_strings(grid, len=(5, None) ) | check.all()\n",
    "results = pd.DataFrame([r.val, *r.provenance] for r in results)\n",
    "results"
   ]
  },
  {
   "cell_type": "markdown",
   "metadata": {},
   "source": [
    "The above chart shows all the words or phrases found in the grid, followed by the coordinates where the word was located, then followed by the actual string that was in the grid and the letter that needs to be replaced by `'aka'` to yield the answer to the clue. Obviously there are a few extras - \"speakable\" and \"leakage\" aren't answers, they're just substrings of the answers \"unspeakable\" and \"leakages\" that happen to be words themselves.\n",
    "\n",
    "But you can pick out the correct answers and their locations from this chart easily, or, if you think of it, you might try resorting these by the answers and looking at the extra letters:"
   ]
  },
  {
   "cell_type": "code",
   "execution_count": 7,
   "metadata": {},
   "outputs": [
    {
     "data": {
      "text/html": [
       "<div>\n",
       "<style scoped>\n",
       "    .dataframe tbody tr th:only-of-type {\n",
       "        vertical-align: middle;\n",
       "    }\n",
       "\n",
       "    .dataframe tbody tr th {\n",
       "        vertical-align: top;\n",
       "    }\n",
       "\n",
       "    .dataframe thead th {\n",
       "        text-align: right;\n",
       "    }\n",
       "</style>\n",
       "<table border=\"1\" class=\"dataframe\">\n",
       "  <thead>\n",
       "    <tr style=\"text-align: right;\">\n",
       "      <th></th>\n",
       "      <th>0</th>\n",
       "      <th>1</th>\n",
       "      <th>2</th>\n",
       "    </tr>\n",
       "  </thead>\n",
       "  <tbody>\n",
       "    <tr>\n",
       "      <th>5</th>\n",
       "      <td>breakaleg</td>\n",
       "      <td>(3, 10)-&gt;(9, 10)</td>\n",
       "      <td>(brealeg, a)</td>\n",
       "    </tr>\n",
       "    <tr>\n",
       "      <th>12</th>\n",
       "      <td>cloakanddagger</td>\n",
       "      <td>(14, 3)-&gt;(3, 3)</td>\n",
       "      <td>(clonnddagger, n)</td>\n",
       "    </tr>\n",
       "    <tr>\n",
       "      <th>3</th>\n",
       "      <td>freakaccident</td>\n",
       "      <td>(1, 13)-&gt;(11, 13)</td>\n",
       "      <td>(fresccident, s)</td>\n",
       "    </tr>\n",
       "    <tr>\n",
       "      <th>6</th>\n",
       "      <td>jakarta</td>\n",
       "      <td>(4, 2)-&gt;(0, 2)</td>\n",
       "      <td>(jwrta, w)</td>\n",
       "    </tr>\n",
       "    <tr>\n",
       "      <th>8</th>\n",
       "      <td>kakapos</td>\n",
       "      <td>(10, 7)-&gt;(6, 7)</td>\n",
       "      <td>(kepos, e)</td>\n",
       "    </tr>\n",
       "    <tr>\n",
       "      <th>9</th>\n",
       "      <td>lakatos</td>\n",
       "      <td>(10, 12)-&gt;(10, 8)</td>\n",
       "      <td>(lrtos, r)</td>\n",
       "    </tr>\n",
       "    <tr>\n",
       "      <th>10</th>\n",
       "      <td>leakage</td>\n",
       "      <td>(13, 3)-&gt;(9, 7)</td>\n",
       "      <td>(leage, a)</td>\n",
       "    </tr>\n",
       "    <tr>\n",
       "      <th>11</th>\n",
       "      <td>leakages</td>\n",
       "      <td>(13, 3)-&gt;(8, 8)</td>\n",
       "      <td>(leages, a)</td>\n",
       "    </tr>\n",
       "    <tr>\n",
       "      <th>7</th>\n",
       "      <td>sneakattack</td>\n",
       "      <td>(9, 12)-&gt;(1, 12)</td>\n",
       "      <td>(snelttack, l)</td>\n",
       "    </tr>\n",
       "    <tr>\n",
       "      <th>4</th>\n",
       "      <td>speakable</td>\n",
       "      <td>(2, 11)-&gt;(8, 11)</td>\n",
       "      <td>(speible, i)</td>\n",
       "    </tr>\n",
       "    <tr>\n",
       "      <th>1</th>\n",
       "      <td>unspeakable</td>\n",
       "      <td>(0, 11)-&gt;(8, 11)</td>\n",
       "      <td>(unspeible, i)</td>\n",
       "    </tr>\n",
       "    <tr>\n",
       "      <th>2</th>\n",
       "      <td>wakanda</td>\n",
       "      <td>(1, 9)-&gt;(1, 5)</td>\n",
       "      <td>(wanda, a)</td>\n",
       "    </tr>\n",
       "    <tr>\n",
       "      <th>0</th>\n",
       "      <td>yamanaka</td>\n",
       "      <td>(0, 9)-&gt;(5, 4)</td>\n",
       "      <td>(yamans, s)</td>\n",
       "    </tr>\n",
       "  </tbody>\n",
       "</table>\n",
       "</div>"
      ],
      "text/plain": [
       "                 0                  1                  2\n",
       "5        breakaleg   (3, 10)->(9, 10)       (brealeg, a)\n",
       "12  cloakanddagger    (14, 3)->(3, 3)  (clonnddagger, n)\n",
       "3    freakaccident  (1, 13)->(11, 13)   (fresccident, s)\n",
       "6          jakarta     (4, 2)->(0, 2)         (jwrta, w)\n",
       "8          kakapos    (10, 7)->(6, 7)         (kepos, e)\n",
       "9          lakatos  (10, 12)->(10, 8)         (lrtos, r)\n",
       "10         leakage    (13, 3)->(9, 7)         (leage, a)\n",
       "11        leakages    (13, 3)->(8, 8)        (leages, a)\n",
       "7      sneakattack   (9, 12)->(1, 12)     (snelttack, l)\n",
       "4        speakable   (2, 11)->(8, 11)       (speible, i)\n",
       "1      unspeakable   (0, 11)->(8, 11)     (unspeible, i)\n",
       "2          wakanda     (1, 9)->(1, 5)         (wanda, a)\n",
       "0         yamanaka     (0, 9)->(5, 4)        (yamans, s)"
      ]
     },
     "execution_count": 7,
     "metadata": {},
     "output_type": "execute_result"
    }
   ],
   "source": [
    "results.sort_values(0)"
   ]
  },
  {
   "cell_type": "markdown",
   "metadata": {},
   "source": [
    "Even with the extra words in the `DataFrame`, it's easy to read the text `answeralias` in those extra letters. The answer to the puzzle, therefore, is **alias**."
   ]
  }
 ],
 "metadata": {
  "kernelspec": {
   "display_name": "Python 3",
   "language": "python",
   "name": "python3"
  },
  "language_info": {
   "codemirror_mode": {
    "name": "ipython",
    "version": 3
   },
   "file_extension": ".py",
   "mimetype": "text/x-python",
   "name": "python",
   "nbconvert_exporter": "python",
   "pygments_lexer": "ipython3",
   "version": "3.6.4"
  }
 },
 "nbformat": 4,
 "nbformat_minor": 4
}

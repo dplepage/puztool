{
 "cells": [
  {
   "cell_type": "markdown",
   "metadata": {},
   "source": [
    "Pipelines are a utility component of several sub-toolkits in this package.\n",
    "\n",
    "A Pipeline consists of a source, which generates values, any number of modifiers, which modify values, and terminal, which uses the values. The helper puztool.P has a variety of useful modifiers and terminals ready for use:"
   ]
  },
  {
   "cell_type": "code",
   "execution_count": 1,
   "metadata": {},
   "outputs": [
    {
     "data": {
      "text/plain": [
       "['balderdash', 'facetiously']"
      ]
     },
     "execution_count": 1,
     "metadata": {},
     "output_type": "execute_result"
    }
   ],
   "source": [
    "from puztool import P\n",
    "\n",
    "words = ['gemini', 'jodhpurs', 'balderdash', 'facetiously']\n",
    "\n",
    "words | P.filter(lambda x: 'a' in x) | P.all()"
   ]
  },
  {
   "cell_type": "markdown",
   "metadata": {},
   "source": [
    "It's also easy to write your own functions with some provided decorators:"
   ]
  },
  {
   "cell_type": "code",
   "execution_count": 2,
   "metadata": {},
   "outputs": [
    {
     "data": {
      "text/plain": [
       "[0, 0, 0, 1, 1, 1, 2, 2, 2, 3, 3, 3]"
      ]
     },
     "execution_count": 2,
     "metadata": {},
     "output_type": "execute_result"
    }
   ],
   "source": [
    "import itertools, funcy as fy\n",
    "x = range(4)\n",
    "a, b, c = itertools.tee(x, 3)\n",
    "fy.interleave(a|P, b, c) | P.all()"
   ]
  },
  {
   "cell_type": "code",
   "execution_count": 17,
   "metadata": {},
   "outputs": [
    {
     "name": "stdout",
     "output_type": "stream",
     "text": [
      "Results:\n",
      "  decba\n",
      "  decbm\n",
      "  decna\n",
      "  decnm\n",
      "  dqcba\n",
      "  dqcbm\n",
      "  dqcna\n",
      "  dqcnm\n",
      "  dqoba\n",
      "  dqobm\n",
      "  dqona\n",
      "  dqonm\n",
      "  pecba\n",
      "  pecbm\n",
      "  pecna\n",
      "  pecnm\n",
      "  pqcba\n",
      "  pqcbm\n",
      "  pqcna\n",
      "  pqcnm\n",
      "  pqoba\n",
      "  pqobm\n",
      "  pqona\n",
      "  pqonm\n"
     ]
    }
   ],
   "source": [
    "import itertools\n",
    "from puztool.text import as_a\n",
    "from puztool.pipeline import source, modifier, item_mod, terminal\n",
    "\n",
    "# @source turns any generator function into a function that returns a pipeline\n",
    "@source\n",
    "def strings(n):\n",
    "    '''Generate candidate  strings from numbers that are letter indices possibly minus 13'''\n",
    "    if not n:\n",
    "        yield ''\n",
    "    else:\n",
    "        for rest in strings(n[1:]):\n",
    "            yield as_a(n[0])+rest\n",
    "            yield as_a(n[0]+12)+rest\n",
    "\n",
    "@modifier\n",
    "def vowels_alphabetical(seq):\n",
    "    '''Filter items that don't have vowels in alphabetical order.'''\n",
    "    for x in seq:\n",
    "        vowels = ''.join(c for c in x if c in 'aeiouy')\n",
    "        if vowels == ''.join(sorted(vowels)):\n",
    "            yield x\n",
    "\n",
    "@modifier\n",
    "def reverse(seq):\n",
    "    for x in seq:\n",
    "        yield x[::-1]\n",
    "\n",
    "@terminal\n",
    "def show(seq):\n",
    "    print(\"Results:\")\n",
    "    print('\\n'.join(f'  {x}' for x in seq))\n",
    "\n",
    "strings((1,2,3,5,4)) | vowels_alphabetical() | reverse() | show()"
   ]
  },
  {
   "cell_type": "markdown",
   "metadata": {},
   "source": [
    "Usefully, any iterable piped into a pipeline will be treated as a source of its contents, and any function piped to or from a pipeline will be treated as a modifier that updates one item at a time:"
   ]
  },
  {
   "cell_type": "code",
   "execution_count": 2,
   "metadata": {},
   "outputs": [
    {
     "name": "stdout",
     "output_type": "stream",
     "text": [
      "Results:\n",
      "  emin\n",
      "  odhpur\n",
      "  acetiousl\n"
     ]
    }
   ],
   "source": [
    "['gemini', 'jodhpurs', 'balderdash', 'facetiously'] | vowels_alphabetical() | (lambda x: x[1:-1]) | show()"
   ]
  },
  {
   "cell_type": "markdown",
   "metadata": {},
   "source": [
    "Of course, you can't pipe a plain list to a plain function and expect pipeline magic to happen, so the helper puztool.P is a no-op pipeline that helps with this:"
   ]
  },
  {
   "cell_type": "code",
   "execution_count": 3,
   "metadata": {},
   "outputs": [
    {
     "name": "stdout",
     "output_type": "stream",
     "text": [
      "Results:\n",
      "  oo\n",
      "  ar\n",
      "  az\n"
     ]
    }
   ],
   "source": [
    "from puztool import P\n",
    "\n",
    "['foo', 'bar', 'baz'] | P | (lambda x:x[1:]) | show()"
   ]
  },
  {
   "cell_type": "markdown",
   "metadata": {},
   "source": [
    "P also has a variety of helpers for common modifiers and terminals:"
   ]
  },
  {
   "cell_type": "code",
   "execution_count": 4,
   "metadata": {},
   "outputs": [
    {
     "data": {
      "text/html": [
       "<div>\n",
       "<style scoped>\n",
       "    .dataframe tbody tr th:only-of-type {\n",
       "        vertical-align: middle;\n",
       "    }\n",
       "\n",
       "    .dataframe tbody tr th {\n",
       "        vertical-align: top;\n",
       "    }\n",
       "\n",
       "    .dataframe thead th {\n",
       "        text-align: right;\n",
       "    }\n",
       "</style>\n",
       "<table border=\"1\" class=\"dataframe\">\n",
       "  <thead>\n",
       "    <tr style=\"text-align: right;\">\n",
       "      <th></th>\n",
       "      <th>0</th>\n",
       "    </tr>\n",
       "  </thead>\n",
       "  <tbody>\n",
       "    <tr>\n",
       "      <th>0</th>\n",
       "      <td>a</td>\n",
       "    </tr>\n",
       "    <tr>\n",
       "      <th>1</th>\n",
       "      <td>b</td>\n",
       "    </tr>\n",
       "  </tbody>\n",
       "</table>\n",
       "</div>"
      ],
      "text/plain": [
       "   0\n",
       "0  a\n",
       "1  b"
      ]
     },
     "execution_count": 4,
     "metadata": {},
     "output_type": "execute_result"
    }
   ],
   "source": [
    "['a', 'b', 'c', 'd'] | P.limit(2) | P.df()"
   ]
  },
  {
   "cell_type": "code",
   "execution_count": 8,
   "metadata": {},
   "outputs": [
    {
     "data": {
      "text/html": [
       "<div>\n",
       "<style scoped>\n",
       "    .dataframe tbody tr th:only-of-type {\n",
       "        vertical-align: middle;\n",
       "    }\n",
       "\n",
       "    .dataframe tbody tr th {\n",
       "        vertical-align: top;\n",
       "    }\n",
       "\n",
       "    .dataframe thead th {\n",
       "        text-align: right;\n",
       "    }\n",
       "</style>\n",
       "<table border=\"1\" class=\"dataframe\">\n",
       "  <thead>\n",
       "    <tr style=\"text-align: right;\">\n",
       "      <th></th>\n",
       "      <th>a</th>\n",
       "      <th>b</th>\n",
       "      <th>c</th>\n",
       "    </tr>\n",
       "  </thead>\n",
       "  <tbody>\n",
       "    <tr>\n",
       "      <th>0</th>\n",
       "      <td>x</td>\n",
       "      <td>y</td>\n",
       "      <td>z</td>\n",
       "    </tr>\n",
       "    <tr>\n",
       "      <th>1</th>\n",
       "      <td>x</td>\n",
       "      <td>y</td>\n",
       "      <td>z</td>\n",
       "    </tr>\n",
       "    <tr>\n",
       "      <th>2</th>\n",
       "      <td>1</td>\n",
       "      <td>2</td>\n",
       "      <td>3</td>\n",
       "    </tr>\n",
       "    <tr>\n",
       "      <th>3</th>\n",
       "      <td>a</td>\n",
       "      <td>b</td>\n",
       "      <td>c</td>\n",
       "    </tr>\n",
       "  </tbody>\n",
       "</table>\n",
       "</div>"
      ],
      "text/plain": [
       "   a  b  c\n",
       "0  x  y  z\n",
       "1  x  y  z\n",
       "2  1  2  3\n",
       "3  a  b  c"
      ]
     },
     "execution_count": 8,
     "metadata": {},
     "output_type": "execute_result"
    }
   ],
   "source": [
    "[list('xyz'), (1,2,3), 'abc'] | P.df(columns=['a', 'b', 'c'])"
   ]
  },
  {
   "cell_type": "code",
   "execution_count": 1,
   "metadata": {},
   "outputs": [
    {
     "data": {
      "text/plain": [
       "[Result(val='0', provenance=(('0 1', 0),)),\n",
       " Result(val='1', provenance=(('0 1', 1),)),\n",
       " Result(val='2', provenance=(('2 3', 0),)),\n",
       " Result(val='3', provenance=(('2 3', 1),)),\n",
       " Result(val='4', provenance=(('4 5', 0),)),\n",
       " Result(val='5', provenance=(('4 5', 1),)),\n",
       " Result(val='6', provenance=(('6 7', 0),)),\n",
       " Result(val='7', provenance=(('6 7', 1),))]"
      ]
     },
     "execution_count": 1,
     "metadata": {},
     "output_type": "execute_result"
    }
   ],
   "source": [
    "from puztool import P, pipeline\n",
    "import funcy as fy\n",
    "\n",
    "range(10) | P.limit(8) | str | P.chunks(2, ' ') | P.split() | P.all()"
   ]
  },
  {
   "cell_type": "code",
   "execution_count": 18,
   "metadata": {},
   "outputs": [
    {
     "data": {
      "text/plain": [
       "\u001b[0;31mSignature:\u001b[0m \u001b[0mfy\u001b[0m\u001b[0;34m.\u001b[0m\u001b[0mchunks\u001b[0m\u001b[0;34m(\u001b[0m\u001b[0mn\u001b[0m\u001b[0;34m,\u001b[0m \u001b[0mstep\u001b[0m\u001b[0;34m,\u001b[0m \u001b[0mseq\u001b[0m\u001b[0;34m=\u001b[0m\u001b[0mEMPTY\u001b[0m\u001b[0;34m)\u001b[0m\u001b[0;34m\u001b[0m\u001b[0;34m\u001b[0m\u001b[0m\n",
       "\u001b[0;31mDocstring:\u001b[0m\n",
       "Lazily chunks seq into parts of length n or less.\n",
       "Skips step items between parts if passed.\n",
       "\u001b[0;31mFile:\u001b[0m      ~/.local/share/virtualenvs/Tools-SytqyKAH/lib/python3.7/site-packages/funcy/seqs.py\n",
       "\u001b[0;31mType:\u001b[0m      function\n"
      ]
     },
     "metadata": {},
     "output_type": "display_data"
    }
   ],
   "source": [
    "import funcy as fy\n",
    "fy.chunks?"
   ]
  },
  {
   "cell_type": "code",
   "execution_count": 2,
   "metadata": {},
   "outputs": [
    {
     "data": {
      "text/plain": [
       "'bfooafoor'"
      ]
     },
     "execution_count": 2,
     "metadata": {},
     "output_type": "execute_result"
    }
   ],
   "source": [
    "'foo'.join('bar')"
   ]
  },
  {
   "cell_type": "code",
   "execution_count": 13,
   "metadata": {},
   "outputs": [
    {
     "data": {
      "text/plain": [
       "\u001b[0;31mSignature:\u001b[0m \u001b[0mfy\u001b[0m\u001b[0;34m.\u001b[0m\u001b[0mtake\u001b[0m\u001b[0;34m(\u001b[0m\u001b[0mn\u001b[0m\u001b[0;34m,\u001b[0m \u001b[0mseq\u001b[0m\u001b[0;34m)\u001b[0m\u001b[0;34m\u001b[0m\u001b[0;34m\u001b[0m\u001b[0m\n",
       "\u001b[0;31mDocstring:\u001b[0m\n",
       "Returns a list of first n items in the sequence,\n",
       "or all items if there are fewer than n.\n",
       "\u001b[0;31mFile:\u001b[0m      ~/.local/share/virtualenvs/Tools-SytqyKAH/lib/python3.7/site-packages/funcy/seqs.py\n",
       "\u001b[0;31mType:\u001b[0m      function\n"
      ]
     },
     "metadata": {},
     "output_type": "display_data"
    }
   ],
   "source": [
    "import funcy as fy\n",
    "fy.take?"
   ]
  },
  {
   "cell_type": "code",
   "execution_count": 1,
   "metadata": {},
   "outputs": [],
   "source": [
    "import z3\n",
    "from puztool import pt, lowers\n",
    "data = pt('''\n",
    "back 76\n",
    "drum 57\n",
    "fine 40\n",
    "grew 185\n",
    "july 57\n",
    "okay 200\n",
    "pear 135\n",
    "sigh 140\n",
    "stop 350\n",
    "vein 80\n",
    "wild 112\n",
    "zinc 26\n",
    "''')\n",
    "vars = {c:z3.Int(c) for c in lowers.strip() if c not in 'qx'}"
   ]
  },
  {
   "cell_type": "code",
   "execution_count": 2,
   "metadata": {},
   "outputs": [],
   "source": [
    "cons = []\n",
    "for v in vars.values():\n",
    "    cons.append(z3.Or(v==1, v==5, v==10, v==25, v==50, v==100))\n",
    "for _, word, val in data.itertuples():\n",
    "    a,b,c,d = word\n",
    "    cons.append(vars[a]+vars[b]+vars[c]+vars[d] == val)\n",
    "from puztool.logic.solve import solve, all_solns\n",
    "a, b = all_solns(cons)"
   ]
  },
  {
   "cell_type": "code",
   "execution_count": null,
   "metadata": {},
   "outputs": [],
   "source": []
  }
 ],
 "metadata": {
  "kernelspec": {
   "display_name": "Python 3",
   "language": "python",
   "name": "python3"
  },
  "language_info": {
   "codemirror_mode": {
    "name": "ipython",
    "version": 3
   },
   "file_extension": ".py",
   "mimetype": "text/x-python",
   "name": "python",
   "nbconvert_exporter": "python",
   "pygments_lexer": "ipython3",
   "version": "3.7.3"
  }
 },
 "nbformat": 4,
 "nbformat_minor": 4
}

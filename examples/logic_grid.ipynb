{
 "cells": [
  {
   "cell_type": "markdown",
   "metadata": {},
   "source": [
    "# puztool.logic_grid: Grid Logic helpers"
   ]
  },
  {
   "cell_type": "code",
   "execution_count": 1,
   "metadata": {},
   "outputs": [],
   "source": [
    "from puztool import *\n",
    "from puztool.logic_grid import *"
   ]
  },
  {
   "cell_type": "markdown",
   "metadata": {},
   "source": [
    "These are tools for working with the sort of logic puzzles where you have a bunch of categories, a bunch of unique labels in each category, and a bunch of declarations about various subsets of these. For example:\n",
    "\n",
    "-----\n",
    "\n",
    "Five people (Brita, Galal, Sam, Violet, and Zork) all have different color hair (Blue, Green, Red, Taupe, and Violet) and were born under different astrological signs (Aries, Scorpio, Virgo, Crabbus, or Gahoolie, The Vase of Tulips). Each has a hairspeed of between one and four follicles/second. Additionally, the following are all true:\n",
    "\n",
    "1. Brita is not an Aries\n",
    "2. Sam, the Green haired person, and the Virgo are three different people.\n",
    "3. Violet does not have Green hair.\n",
    "3. The person with Blue hair is a Scorpio.\n",
    "4. Brita has Red or Blue hair.\n",
    "5. Neither Zork nor the Crabbus has Green hair.\n",
    "6. The Violet-haired person has more letters in their name than the person born under Gahoolie, The Vase of Tulips.\n",
    "6. The Red-haired person has twice the hairspeed of the Crabbus.\n",
    "7. Violet has Taupe hair or is an Aries, but not both.\n",
    "8. The total combined hairspeed of all persons is more than 6, but less than 10.\n",
    "\n",
    "For each person, what color and speed of hair do they have, and what sign were they born under?\n",
    "\n",
    "-----\n",
    "\n",
    "We represent a simple grid of values with the `Grid` type, which takes as input a data frame containing all possible values for each category, in no particular order:"
   ]
  },
  {
   "cell_type": "code",
   "execution_count": 2,
   "metadata": {},
   "outputs": [],
   "source": [
    "categories = dict(\n",
    "    name = ['Brita', 'Galal', 'Sam', 'Violet', 'Zork'],\n",
    "    color = ['Blue', 'Green', 'Red', 'Taupe', 'Violet'],\n",
    "    sign = ['Aries', 'Scorpio', 'Virgo', 'Crabbus', 'Gahoolie']\n",
    ")\n",
    "g = Grid(categories)"
   ]
  },
  {
   "cell_type": "markdown",
   "metadata": {},
   "source": [
    "This `Grid` object has internal grids of booleans indicating which pairs of values are known to be true or false; initially it's all `None`."
   ]
  },
  {
   "cell_type": "code",
   "execution_count": 3,
   "metadata": {},
   "outputs": [
    {
     "data": {
      "text/plain": [
       "array([[None, None, None, None, None],\n",
       "       [None, None, None, None, None],\n",
       "       [None, None, None, None, None],\n",
       "       [None, None, None, None, None],\n",
       "       [None, None, None, None, None]], dtype=object)"
      ]
     },
     "execution_count": 3,
     "metadata": {},
     "output_type": "execute_result"
    }
   ],
   "source": [
    "g.grids['name']['color']"
   ]
  },
  {
   "cell_type": "markdown",
   "metadata": {},
   "source": [
    "To set these values, we can use the helper methods `exclude`, `include`, and `requireOne`.\n",
    "\n",
    "`exclude(*values)` takes any number of values and encodes that they are all mutually exclusive.\n",
    "`include(*values)` indicates that the specified values all correspond to each other.\n",
    "`requireOne(value, [options])` indicates that the first value corresponds to exactly one of the chosen options.\n",
    "\n",
    "In all cases, you don't need to indicate which category your values are in - `Grid` will infer this from the value itself. But you can specify the category explicitly by `category:value`; this is necessary if the value is ambiguous (for example, `name:Violet` refers to the person named Violet, while `color:Violet` refers to the person with violet hair). Thus, we can encode many of the rules listed above with:"
   ]
  },
  {
   "cell_type": "code",
   "execution_count": 4,
   "metadata": {},
   "outputs": [],
   "source": [
    "# Brita is not an Aries\n",
    "g.exclude(\"Brita\", \"Aries\") # Brita and Aries cannot be in the same row\n",
    "# Sam, Green hair, and the Virgo are different people\n",
    "g.exclude(\"Sam\", \"Green\", \"Virgo\") # No two of these three can be in the same row\n",
    "# Violet does not have green hair\n",
    "g.exclude(\"name:Violet\", \"Green\") # Violet (the name) cannot be in the same row as Green\n",
    "# The blue-haired person is a scorpio\n",
    "g.require(\"Scorpio\", \"Blue\") # Scorpio and Blue must be in the same row\n",
    "# Brita's hair is red or blue\n",
    "g.requireOne(\"Brita\", [\"Red\", \"Blue\"]) # The row with Brita must contain Red or Blue\n",
    "# Neither Zork nor Crabbus has Green hair\n",
    "g.exclude(\"Zork\", \"Crabbus\", \"Green\") # None of these are in the same row"
   ]
  },
  {
   "cell_type": "markdown",
   "metadata": {},
   "source": [
    "In an ideal world I'd build a tool for viewing this right here in the notebook, but this isn't that world so instead you can use `g.html_link()` to get a link to the grid-solving tool at http://www.jsingler.de/apps/logikloeser/, prefilled with your grid (use `g.get_link()` if you want plain text instead of a jupyter `HTML` object):"
   ]
  },
  {
   "cell_type": "code",
   "execution_count": 5,
   "metadata": {},
   "outputs": [
    {
     "data": {
      "text/html": [
       "<a href='http://www.jsingler.de/apps/logikloeser/?language=en#(at:s,ms:s,nc:3,ni:5,v:0,items:!(!(Brita,Galal,Sam,Violet,Zork),!(Blue,Green,Red,Taupe,Violet),!(Aries,Scorpio,Virgo,Crabbus,Gahoolie)),n:!(a0b1,a0b3,a0b4,a2b1,a3b1,a4b1,a0c0,a2c2,a4c3,b1c2,b1c3),p:!(b0c1))'>http://www.jsingler.de/apps/logikloeser/?language=en#(at:s,ms:s,nc:3,ni:5,v:0,items:!(!(Brita,Galal,Sam,Violet,Zork),!(Blue,Green,Red,Taupe,Violet),!(Aries,Scorpio,Virgo,Crabbus,Gahoolie)),n:!(a0b1,a0b3,a0b4,a2b1,a3b1,a4b1,a0c0,a2c2,a4c3,b1c2,b1c3),p:!(b0c1))</a>"
      ],
      "text/plain": [
       "<IPython.core.display.HTML object>"
      ]
     },
     "execution_count": 5,
     "metadata": {},
     "output_type": "execute_result"
    }
   ],
   "source": [
    "g.html_link()"
   ]
  },
  {
   "cell_type": "markdown",
   "metadata": {},
   "source": [
    "Following the above link, you can see that the tool there has inferred a bunch of values for you, and you can probably solve the rest yourself using the last few rules. However, the grid isn't sophisticated enough to express constraints that aren't simple combinations of binaries, such as \"The Violet-haired person has more letters in their name than the person born under Gahoolie, The Vase of Tulips.\", and the grid can't even express `hairspeed`, so if you're just using `Grid` you'll have to solve that part yourself.\n",
    "\n",
    "Alternatively, if you have [Numberjack](https://github.com/eomahony/Numberjack) installed, you can use the full solver."
   ]
  },
  {
   "cell_type": "markdown",
   "metadata": {},
   "source": [
    "## Solver\n",
    "\n",
    "For more complicated setups, you'll want to use the `Solver` class, which is a subclass of `Grid` that exposes [Numberjack](https://github.com/eomahony/Numberjack) variables for each cell of the logic grids, and also supports additional non-exclusive categories and constraints.\n",
    "\n",
    "The input to `Solver` is the same as to `Grid`, except it also takes a dict of `extra_categories`, which are categories that don't fit the grid pattern - i.e., they're not a set of mutually exclusive values, but rather are one value per row chosen from some domain. In this case, `hairspeed` can be 1, 2, 3, or 4:"
   ]
  },
  {
   "cell_type": "code",
   "execution_count": 6,
   "metadata": {},
   "outputs": [],
   "source": [
    "s = Solver(categories, extra_categories=dict(hairspeed=[1,2,3,4]))"
   ]
  },
  {
   "cell_type": "markdown",
   "metadata": {},
   "source": [
    "The solver maintains a grid of numberjack variables for all the intersections between different values, as well as a convenient mapping from extra categories to all associated variables:"
   ]
  },
  {
   "cell_type": "code",
   "execution_count": 7,
   "metadata": {},
   "outputs": [
    {
     "name": "stdout",
     "output_type": "stream",
     "text": [
      "name_color.3.1 in {0,1}\n",
      "color_hairspeed2 in {1..4}\n",
      "[name_hairspeed0 in {1..4}, name_hairspeed1 in {1..4}, name_hairspeed2 in {1..4}, name_hairspeed3 in {1..4}, name_hairspeed4 in {1..4}]\n"
     ]
    }
   ],
   "source": [
    "# binary variable for \"does violet have green hair\"\n",
    "print(s.vars['name:Violet', 'color:Green'])\n",
    "# int variable for \"what is the red-haired person's hairspeed?\"\n",
    "print(s.vars['Red', 'hairspeed'])\n",
    "# all hairspeed variables associated with different names\n",
    "print(s.vcats['hairspeed']['name'])"
   ]
  },
  {
   "cell_type": "markdown",
   "metadata": {},
   "source": [
    "Note that these variables are heavily redundant: for example, there is a variable for 'Does Violet have green hair', another for 'Was Violet born under Crabbus', and a third for 'Was the person with green hair born under Crabbus' - when we ask the solver to solve, it will automatically generate a slew of sanity constraints like \"If Violet has green hair and Violet was born under Crabbus then the person born under Crabbus must have green hair\" and \"If Violet has green hair then Violet's hairspeed must match the green-haired person's hairspeed\"."
   ]
  },
  {
   "cell_type": "markdown",
   "metadata": {},
   "source": [
    "We can also provide information via `exclude`, `require`, etc. as above, which will also be translated into solver constraints:"
   ]
  },
  {
   "cell_type": "code",
   "execution_count": 8,
   "metadata": {},
   "outputs": [],
   "source": [
    "s.exclude(\"Brita\", \"Aries\") # Brita and Aries cannot be in the same row\n",
    "s.exclude(\"Sam\", \"Green\", \"Virgo\") # No two of these three can be in the same row\n",
    "s.exclude(\"name:Violet\", \"Green\") # Violet (the name) cannot be in the same row as Green\n",
    "s.require(\"Scorpio\", \"Blue\") # Scorpio and Blue must be in the same row\n",
    "s.requireOne(\"Brita\", [\"Red\", \"Blue\"]) # The row with Brita must contain Red or Blue\n",
    "s.exclude(\"Zork\", \"Crabbus\", \"Green\") # None of these are in the same row"
   ]
  },
  {
   "cell_type": "markdown",
   "metadata": {},
   "source": [
    "But unlike plain `Grid`, we can now express more complex arithmatic constraints using `s.add` on expressions of vars:"
   ]
  },
  {
   "cell_type": "code",
   "execution_count": 9,
   "metadata": {},
   "outputs": [],
   "source": [
    "# The red-haired person's hairspeed is twice that of whoever was born under Crabbus\n",
    "s.add(s.vars['Red','hairspeed'] == 2*s.vars['Crabbus', 'hairspeed'])\n",
    "# Violet is Taupe-haired or an Aries, but not both\n",
    "s.add(s.vars['name:Violet','Taupe'] != s.vars['name:Violet','Aries'])\n",
    "# The sum of all hairspeeds must be between 6 and 10\n",
    "# Note that we don't have to use 'name' here - we could've used the hairspeed vars\n",
    "# for any category, as long as we're using the sum of all of them in that category\n",
    "s.add(sum(s.vcats['hairspeed']['name']) < 10)\n",
    "s.add(sum(s.vcats['hairspeed']['name']) > 6)\n"
   ]
  },
  {
   "cell_type": "markdown",
   "metadata": {},
   "source": [
    "Even more powerfully, we can use `s.add_constraint` to add an arbitrary function that operates on some set of vars. `add_constraint` takes a set of (variable, category) pairs and decorates a function that takes possible values for those pairs; it constrains the solution to only choose values where this function evaluates to `True`.\n",
    "\n",
    "Thus, to add the constraint that the person with Violet hair must have a longer name than the person associated with Gahoolie, we specify the inputs `('color:Violet', 'name')` (the name of the person with violet hair) and `(Gahoolie', 'name')` (the name of the person born under Gahoolie) and provide a function that takes these two names and returns `True` iff the violet name is longer than the gahoolie name:"
   ]
  },
  {
   "cell_type": "code",
   "execution_count": 10,
   "metadata": {},
   "outputs": [],
   "source": [
    "@s.add_constraint(('color:Violet', 'name'), ('Gahoolie', 'name'))\n",
    "def _(vname, gname):\n",
    "    return len(vname) > len(gname)\n"
   ]
  },
  {
   "cell_type": "markdown",
   "metadata": {},
   "source": [
    "Note that under the hood, `Solver` does this by actually checking every single possible combination of values for the specified variables _when you call `add_constraint`_, calling the function on them, and adding constraints to disallow any combination that returned `False`. As a result, calling `add_constraint` with many variables on a grid with a lot of possible values might be quite slow."
   ]
  },
  {
   "cell_type": "markdown",
   "metadata": {},
   "source": [
    "Having added this, we can now solve `s` using Numberjack; the returned result contains a completed grid `soln.grid`, and a dataframe of the solution `soln.df`."
   ]
  },
  {
   "cell_type": "code",
   "execution_count": 11,
   "metadata": {},
   "outputs": [],
   "source": [
    "soln = s.solve()"
   ]
  },
  {
   "cell_type": "code",
   "execution_count": 12,
   "metadata": {},
   "outputs": [
    {
     "data": {
      "text/html": [
       "<a href='http://www.jsingler.de/apps/logikloeser/?language=en#(at:s,ms:s,nc:4,ni:5,v:0,items:!(!(Brita,Galal,Sam,Violet,Zork),!(Blue,Green,Red,Taupe,Violet),!(Aries,Scorpio,Virgo,Crabbus,Gahoolie),!(4,1,2,_1,__1)),n:!(a0b0,a0b1,a0b3,a0b4,a1b0,a1b2,a1b3,a1b4,a2b0,a2b1,a2b2,a2b4,a3b0,a3b1,a3b2,a3b3,a4b1,a4b2,a4b3,a4b4,a0c0,a0c1,a0c3,a0c4,a1c0,a1c1,a1c2,a1c3,a2c0,a2c1,a2c2,a2c4,a3c1,a3c2,a3c3,a3c4,a4c0,a4c2,a4c3,a4c4,a0d1,a0d2,a0d3,a0d4,a1d0,a1d2,a1d3,a1d4,a2d0,a2d1,a2d3,a2d4,a3d0,a3d1,a3d2,a3d4,a4d0,a4d1,a4d2,a4d3,b0c0,b0c2,b0c3,b0c4,b1c0,b1c1,b1c2,b1c3,b2c0,b2c1,b2c3,b2c4,b3c0,b3c1,b3c2,b3c4,b4c1,b4c2,b4c3,b4c4,b0d0,b0d1,b0d2,b0d3,b1d0,b1d2,b1d3,b1d4,b2d1,b2d2,b2d3,b2d4,b3d0,b3d1,b3d3,b3d4,b4d0,b4d1,b4d2,b4d4,c0d0,c0d1,c0d2,c0d4,c1d0,c1d1,c1d2,c1d3,c2d1,c2d2,c2d3,c2d4,c3d0,c3d1,c3d3,c3d4,c4d0,c4d2,c4d3,c4d4),p:!(a0b2,a1b1,a2b3,a3b4,a4b0,a0c2,a1c4,a2c3,a3c0,a4c1,a0d0,a1d1,a2d2,a3d3,a4d4,b0c1,b1c4,b2c2,b3c3,b4c0,b0d4,b1d1,b2d0,b3d2,b4d3,c0d3,c1d4,c2d0,c3d2,c4d1))'>http://www.jsingler.de/apps/logikloeser/?language=en#(at:s,ms:s,nc:4,ni:5,v:0,items:!(!(Brita,Galal,Sam,Violet,Zork),!(Blue,Green,Red,Taupe,Violet),!(Aries,Scorpio,Virgo,Crabbus,Gahoolie),!(4,1,2,_1,__1)),n:!(a0b0,a0b1,a0b3,a0b4,a1b0,a1b2,a1b3,a1b4,a2b0,a2b1,a2b2,a2b4,a3b0,a3b1,a3b2,a3b3,a4b1,a4b2,a4b3,a4b4,a0c0,a0c1,a0c3,a0c4,a1c0,a1c1,a1c2,a1c3,a2c0,a2c1,a2c2,a2c4,a3c1,a3c2,a3c3,a3c4,a4c0,a4c2,a4c3,a4c4,a0d1,a0d2,a0d3,a0d4,a1d0,a1d2,a1d3,a1d4,a2d0,a2d1,a2d3,a2d4,a3d0,a3d1,a3d2,a3d4,a4d0,a4d1,a4d2,a4d3,b0c0,b0c2,b0c3,b0c4,b1c0,b1c1,b1c2,b1c3,b2c0,b2c1,b2c3,b2c4,b3c0,b3c1,b3c2,b3c4,b4c1,b4c2,b4c3,b4c4,b0d0,b0d1,b0d2,b0d3,b1d0,b1d2,b1d3,b1d4,b2d1,b2d2,b2d3,b2d4,b3d0,b3d1,b3d3,b3d4,b4d0,b4d1,b4d2,b4d4,c0d0,c0d1,c0d2,c0d4,c1d0,c1d1,c1d2,c1d3,c2d1,c2d2,c2d3,c2d4,c3d0,c3d1,c3d3,c3d4,c4d0,c4d2,c4d3,c4d4),p:!(a0b2,a1b1,a2b3,a3b4,a4b0,a0c2,a1c4,a2c3,a3c0,a4c1,a0d0,a1d1,a2d2,a3d3,a4d4,b0c1,b1c4,b2c2,b3c3,b4c0,b0d4,b1d1,b2d0,b3d2,b4d3,c0d3,c1d4,c2d0,c3d2,c4d1))</a>"
      ],
      "text/plain": [
       "<IPython.core.display.HTML object>"
      ]
     },
     "execution_count": 12,
     "metadata": {},
     "output_type": "execute_result"
    }
   ],
   "source": [
    "soln.grid.html_link()"
   ]
  },
  {
   "cell_type": "code",
   "execution_count": 13,
   "metadata": {},
   "outputs": [
    {
     "data": {
      "text/html": [
       "<div>\n",
       "<style scoped>\n",
       "    .dataframe tbody tr th:only-of-type {\n",
       "        vertical-align: middle;\n",
       "    }\n",
       "\n",
       "    .dataframe tbody tr th {\n",
       "        vertical-align: top;\n",
       "    }\n",
       "\n",
       "    .dataframe thead th {\n",
       "        text-align: right;\n",
       "    }\n",
       "</style>\n",
       "<table border=\"1\" class=\"dataframe\">\n",
       "  <thead>\n",
       "    <tr style=\"text-align: right;\">\n",
       "      <th></th>\n",
       "      <th>name</th>\n",
       "      <th>color</th>\n",
       "      <th>sign</th>\n",
       "      <th>hairspeed</th>\n",
       "    </tr>\n",
       "  </thead>\n",
       "  <tbody>\n",
       "    <tr>\n",
       "      <th>0</th>\n",
       "      <td>Brita</td>\n",
       "      <td>Red</td>\n",
       "      <td>Virgo</td>\n",
       "      <td>4</td>\n",
       "    </tr>\n",
       "    <tr>\n",
       "      <th>1</th>\n",
       "      <td>Galal</td>\n",
       "      <td>Green</td>\n",
       "      <td>Gahoolie</td>\n",
       "      <td>1</td>\n",
       "    </tr>\n",
       "    <tr>\n",
       "      <th>2</th>\n",
       "      <td>Sam</td>\n",
       "      <td>Taupe</td>\n",
       "      <td>Crabbus</td>\n",
       "      <td>2</td>\n",
       "    </tr>\n",
       "    <tr>\n",
       "      <th>3</th>\n",
       "      <td>Violet</td>\n",
       "      <td>Violet</td>\n",
       "      <td>Aries</td>\n",
       "      <td>1</td>\n",
       "    </tr>\n",
       "    <tr>\n",
       "      <th>4</th>\n",
       "      <td>Zork</td>\n",
       "      <td>Blue</td>\n",
       "      <td>Scorpio</td>\n",
       "      <td>1</td>\n",
       "    </tr>\n",
       "  </tbody>\n",
       "</table>\n",
       "</div>"
      ],
      "text/plain": [
       "     name   color      sign  hairspeed\n",
       "0   Brita     Red     Virgo          4\n",
       "1   Galal   Green  Gahoolie          1\n",
       "2     Sam   Taupe   Crabbus          2\n",
       "3  Violet  Violet     Aries          1\n",
       "4    Zork    Blue   Scorpio          1"
      ]
     },
     "execution_count": 13,
     "metadata": {},
     "output_type": "execute_result"
    }
   ],
   "source": [
    "soln.df"
   ]
  },
  {
   "cell_type": "markdown",
   "metadata": {},
   "source": [
    "## Caveats and future work\n",
    "\n",
    "### Ambiguity\n",
    "\n",
    "Right now this just finds the first available solution. If there's more than one (i.e. the problem is underconstrained), it'll find *a* solution but won't tell you that there are others.\n",
    "\n",
    "### Numberjack\n",
    "\n",
    "Numberjack, while cool, doesn't seem to be in development any more; sooner or later it'll probably stop working. At some point I'll need to port this to some other combinatorial optimization solver."
   ]
  }
 ],
 "metadata": {
  "kernelspec": {
   "display_name": "Python 3",
   "language": "python",
   "name": "python3"
  },
  "language_info": {
   "codemirror_mode": {
    "name": "ipython",
    "version": 3
   },
   "file_extension": ".py",
   "mimetype": "text/x-python",
   "name": "python",
   "nbconvert_exporter": "python",
   "pygments_lexer": "ipython3",
   "version": "3.6.4"
  }
 },
 "nbformat": 4,
 "nbformat_minor": 4
}

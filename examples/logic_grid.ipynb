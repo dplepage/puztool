{
 "cells": [
  {
   "cell_type": "markdown",
   "metadata": {},
   "source": [
    "# puztool.logic_grid: Grid Logic helpers"
   ]
  },
  {
   "cell_type": "code",
   "execution_count": 3,
   "metadata": {},
   "outputs": [],
   "source": [
    "from puztool import *\n",
    "from puztool.logic_grid import *"
   ]
  },
  {
   "cell_type": "markdown",
   "metadata": {},
   "source": [
    "These are tools for working with the sort of logic puzzles where you have a bunch of categories, a bunch of unique labels in each category, and a bunch of declarations about various subsets of these. For example:\n",
    "\n",
    "-----\n",
    "\n",
    "Five people (Brita, Galal, Sam, Violet, and Zork) all have different color hair (Blue, Green, Red, Taupe, and Violet) and were born under different astrological signs (Aries, Scorpio, Virgo, Crabbus, or Gahoolie, The Vase of Tulips). Each has a hairspeed of between one and four follicles/second. Additionally, the following are all true:\n",
    "\n",
    "1. Brita is not an Aries\n",
    "2. Sam, the Green haired person, and the Virgo are three different people.\n",
    "3. Violet does not have Green hair.\n",
    "3. The person with Blue hair is a Scorpio.\n",
    "4. Brita has Red or Blue hair.\n",
    "5. Neither Zork nor the Crabbus has Green hair.\n",
    "6. The Violet-haired person has more letters in their name than the person born under Gahoolie.\n",
    "6. The Red-haired person has twice the hairspeed of the Crabbus.\n",
    "7. Violet has Taupe hair or is an Aries, but not both.\n",
    "8. The total combined hairspeed of all persons is more than 6, but less than 10.\n",
    "\n",
    "For each person, what color and speed of hair do they have, and what sign were they born under?\n",
    "\n",
    "-----\n",
    "\n",
    "We represent a simple grid of values with the `Grid` type, which takes as input a data frame containing all possible values for each category, in no particular order:"
   ]
  },
  {
   "cell_type": "code",
   "execution_count": 2,
   "metadata": {},
   "outputs": [],
   "source": [
    "categories = dict(\n",
    "    name = ['Brita', 'Galal', 'Sam', 'Violet', 'Zork'],\n",
    "    color = ['Blue', 'Green', 'Red', 'Taupe', 'Violet'],\n",
    "    sign = ['Aries', 'Scorpio', 'Virgo', 'Crabbus', 'Gahoolie']\n",
    ")\n",
    "g = Grid(categories)"
   ]
  },
  {
   "cell_type": "markdown",
   "metadata": {},
   "source": [
    "This `Grid` object has internal grids of booleans indicating which pairs of values are known to be true or false; initially it's all `None`."
   ]
  },
  {
   "cell_type": "code",
   "execution_count": 4,
   "metadata": {},
   "outputs": [
    {
     "data": {
      "text/plain": [
       "array([[None, None, None, None, None],\n",
       "       [None, None, None, None, None],\n",
       "       [None, None, None, None, None],\n",
       "       [None, None, None, None, None],\n",
       "       [None, None, None, None, None]], dtype=object)"
      ]
     },
     "execution_count": 4,
     "metadata": {},
     "output_type": "execute_result"
    }
   ],
   "source": [
    "g.grids['name']['color']"
   ]
  },
  {
   "cell_type": "markdown",
   "metadata": {},
   "source": [
    "To set these values, we can use the helper methods `exclude`, `include`, and `requireOne`.\n",
    "\n",
    "`exclude(*values)` takes any number of values and encodes that they are all mutually exclusive.\n",
    "`include(*values)` indicates that the specified values all correspond to each other.\n",
    "`requireOne(value, [options])` indicates that the first value corresponds to exactly one of the chosen options.\n",
    "\n",
    "In all cases, you don't need to indicate which category your values are in - `Grid` will infer this from the value itself. Thus, we can indicate the most of the rules listed above with:"
   ]
  },
  {
   "cell_type": "code",
   "execution_count": 6,
   "metadata": {},
   "outputs": [],
   "source": [
    "g.exclude(\"Brita\", \"Aries\") # Brita and Ares cannot be the same row\n",
    "g.exclude(\"Sam\", \"Green\", \"Virgo\") # No two of these three can be in the same row\n",
    "g.require(\"Scorpio\", \"Blue\") # Scorpio and Blue must be in the same row\n",
    "g.requireOne(\"Brita\", [\"Red\", \"Blue\"]) # The row containing Brita must contain Red or Blue\n",
    "g.exclude(\"Zork\", \"Crabbus\", \"Green\") # None of these are in the same row\n",
    "# Virgo and Aries are the only two signs with the same length, so Galal and Zork must have these\n",
    "g.requireOne(\"Galal\", ['Virgo', 'Aries'])\n",
    "g.requireOne(\"Zork\", ['Virgo', 'Aries'])"
   ]
  },
  {
   "cell_type": "markdown",
   "metadata": {},
   "source": [
    "In an ideal world I'd build a tool for viewing this right here in the notebook, but this isn't that world so instead you can use `g.html_link()` to get a link to the grid-solving tool at http://www.jsingler.de/apps/logikloeser/, prefilled with your grid (use `g.get_link()` if you want plain text instead of a jupyter `HTML` object):"
   ]
  },
  {
   "cell_type": "code",
   "execution_count": 8,
   "metadata": {},
   "outputs": [
    {
     "data": {
      "text/html": [
       "<a href='http://www.jsingler.de/apps/logikloeser/?language=en#(at:s,ms:s,nc:3,ni:5,v:0,items:!(!(Brita,Galal,Sam,Violet,Zork),!(Blue,Green,Red,Taupe,Violet),!(Aries,Scorpio,Virgo,Crabbus,Gahoolie)),n:!(a0b1,a0b3,a0b4,a2b1,a4b1,a0c0,a1c1,a1c3,a1c4,a2c2,a4c1,a4c3,a4c4,b1c2,b1c3),p:!(b0c1))'>http://www.jsingler.de/apps/logikloeser/?language=en#(at:s,ms:s,nc:3,ni:5,v:0,items:!(!(Brita,Galal,Sam,Violet,Zork),!(Blue,Green,Red,Taupe,Violet),!(Aries,Scorpio,Virgo,Crabbus,Gahoolie)),n:!(a0b1,a0b3,a0b4,a2b1,a4b1,a0c0,a1c1,a1c3,a1c4,a2c2,a4c1,a4c3,a4c4,b1c2,b1c3),p:!(b0c1))</a>"
      ],
      "text/plain": [
       "<IPython.core.display.HTML object>"
      ]
     },
     "execution_count": 8,
     "metadata": {},
     "output_type": "execute_result"
    }
   ],
   "source": [
    "g.html_link()"
   ]
  },
  {
   "cell_type": "markdown",
   "metadata": {},
   "source": [
    "Following the above link, you can see that the tool there has inferred a bunch of values for you, and you can probably solve the rest yourself using the last two rules. But in a more complicated case, you might want to use an automatic solver, so we'll demo that here, too.\n",
    "\n",
    "\n",
    "For more complicated setups, you'll want to use the `Solver` class, which is a subclass of `Grid` that exposes [Numberjack](http://numberjack.ucc.ie/doc/) variables for each cell of the logic grids, and also supports additional non-exclusive categories and \n",
    "\n",
    "A `Solver` is a wrapper around a `Grid` that has a bunch of [Numberjack](http://numberjack.ucc.ie/doc/) variables for the different values and can impose constraints on them."
   ]
  },
  {
   "cell_type": "code",
   "execution_count": 7,
   "metadata": {},
   "outputs": [],
   "source": [
    "s = Solver(g)"
   ]
  },
  {
   "cell_type": "code",
   "execution_count": 8,
   "metadata": {},
   "outputs": [
    {
     "name": "stdout",
     "output_type": "stream",
     "text": [
      "[[Name_Color.0.0 in {0,1}, Name_Color.0.1 in {0,1}, Name_Color.0.2 in {0,1}, Name_Color.0.3 in {0,1}],\n",
      " [Name_Color.1.0 in {0,1}, Name_Color.1.1 in {0,1}, Name_Color.1.2 in {0,1}, Name_Color.1.3 in {0,1}],\n",
      " [Name_Color.2.0 in {0,1}, Name_Color.2.1 in {0,1}, Name_Color.2.2 in {0,1}, Name_Color.2.3 in {0,1}],\n",
      " [Name_Color.3.0 in {0,1}, Name_Color.3.1 in {0,1}, Name_Color.3.2 in {0,1}, Name_Color.3.3 in {0,1}]]\n"
     ]
    }
   ],
   "source": [
    "print(s.vgrids['Name']['Color'])"
   ]
  },
  {
   "cell_type": "markdown",
   "metadata": {},
   "source": [
    "When we ask the solver to solve, it'll automatically generate constraints for all of the booleans in the grid, as well as the various sanity constraints (e.g., each name has exactly one color, if a name and a color match then their signs should also match, etc.). But we can also add new constraints on the Numberjack variables, which are accessed by `s.vars`:"
   ]
  },
  {
   "cell_type": "code",
   "execution_count": 9,
   "metadata": {},
   "outputs": [],
   "source": [
    "s.add(s.vars['Sam','Taupe'] != s.vars['Sam','Aries']) # Sam is Taupe-haired or an Aries, but not both"
   ]
  },
  {
   "cell_type": "markdown",
   "metadata": {},
   "source": [
    "Having added this, we can now solve `s` using Numberjack; once we've done so, `s.soln_grid` will be a `Grid` with values set according to the solution, and `s.soln` will be a dataframe of the actual solution:"
   ]
  },
  {
   "cell_type": "code",
   "execution_count": 10,
   "metadata": {},
   "outputs": [],
   "source": [
    "s.solve()"
   ]
  },
  {
   "cell_type": "code",
   "execution_count": 13,
   "metadata": {},
   "outputs": [
    {
     "data": {
      "text/html": [
       "<a href='http://www.jsingler.de/apps/logikloeser/?language=en#(at:s,ms:s,nc:3,ni:4,v:0,items:!(!(Brita,Galal,Sam,Zork),!(Blue,Green,Red,Taupe),!(Aries,Scorpio,Virgo,Crabbus)),n:!(a0b1,a0b2,a0b3,a1b0,a1b2,a1b3,a2b0,a2b1,a2b2,a3b0,a3b1,a3b3,a0c0,a0c2,a0c3,a1c1,a1c2,a1c3,a2c0,a2c1,a2c2,a3c0,a3c1,a3c3,b0c0,b0c2,b0c3,b1c1,b1c2,b1c3,b2c0,b2c1,b2c3,b3c0,b3c1,b3c2),p:!(a0b0,a1b1,a2b3,a3b2,a0c1,a1c0,a2c3,a3c2,b0c1,b1c0,b2c2,b3c3))'>http://www.jsingler.de/apps/logikloeser/?language=en#(at:s,ms:s,nc:3,ni:4,v:0,items:!(!(Brita,Galal,Sam,Zork),!(Blue,Green,Red,Taupe),!(Aries,Scorpio,Virgo,Crabbus)),n:!(a0b1,a0b2,a0b3,a1b0,a1b2,a1b3,a2b0,a2b1,a2b2,a3b0,a3b1,a3b3,a0c0,a0c2,a0c3,a1c1,a1c2,a1c3,a2c0,a2c1,a2c2,a3c0,a3c1,a3c3,b0c0,b0c2,b0c3,b1c1,b1c2,b1c3,b2c0,b2c1,b2c3,b3c0,b3c1,b3c2),p:!(a0b0,a1b1,a2b3,a3b2,a0c1,a1c0,a2c3,a3c2,b0c1,b1c0,b2c2,b3c3))</a>"
      ],
      "text/plain": [
       "<IPython.core.display.HTML object>"
      ]
     },
     "execution_count": 13,
     "metadata": {},
     "output_type": "execute_result"
    }
   ],
   "source": [
    "s.soln_grid.html_link()"
   ]
  },
  {
   "cell_type": "code",
   "execution_count": 12,
   "metadata": {},
   "outputs": [
    {
     "data": {
      "text/html": [
       "<div>\n",
       "<style>\n",
       "    .dataframe thead tr:only-child th {\n",
       "        text-align: right;\n",
       "    }\n",
       "\n",
       "    .dataframe thead th {\n",
       "        text-align: left;\n",
       "    }\n",
       "\n",
       "    .dataframe tbody tr th {\n",
       "        vertical-align: top;\n",
       "    }\n",
       "</style>\n",
       "<table border=\"1\" class=\"dataframe\">\n",
       "  <thead>\n",
       "    <tr style=\"text-align: right;\">\n",
       "      <th></th>\n",
       "      <th>Name</th>\n",
       "      <th>Color</th>\n",
       "      <th>Sign</th>\n",
       "    </tr>\n",
       "  </thead>\n",
       "  <tbody>\n",
       "    <tr>\n",
       "      <th>0</th>\n",
       "      <td>Brita</td>\n",
       "      <td>Blue</td>\n",
       "      <td>Scorpio</td>\n",
       "    </tr>\n",
       "    <tr>\n",
       "      <th>1</th>\n",
       "      <td>Galal</td>\n",
       "      <td>Green</td>\n",
       "      <td>Aries</td>\n",
       "    </tr>\n",
       "    <tr>\n",
       "      <th>2</th>\n",
       "      <td>Sam</td>\n",
       "      <td>Taupe</td>\n",
       "      <td>Crabbus</td>\n",
       "    </tr>\n",
       "    <tr>\n",
       "      <th>3</th>\n",
       "      <td>Zork</td>\n",
       "      <td>Red</td>\n",
       "      <td>Virgo</td>\n",
       "    </tr>\n",
       "  </tbody>\n",
       "</table>\n",
       "</div>"
      ],
      "text/plain": [
       "    Name  Color     Sign\n",
       "0  Brita   Blue  Scorpio\n",
       "1  Galal  Green    Aries\n",
       "2    Sam  Taupe  Crabbus\n",
       "3   Zork    Red    Virgo"
      ]
     },
     "execution_count": 12,
     "metadata": {},
     "output_type": "execute_result"
    }
   ],
   "source": [
    "s.soln"
   ]
  },
  {
   "cell_type": "markdown",
   "metadata": {},
   "source": [
    "## Future Work\n",
    "\n",
    "Ideally I'd like to expand this to handle grids where the uniqueness constraint is relaxed, and grids where rows have numeric values instead of just choices from a set. For example, imagine if the above puzzle also included that each person had 0, 1, or 2 apples, and specified rules like \"Sam had more apples than the Virgo\" - you'd want to add another entry to the grid where each category can have a variable set to 0, 1, or 2, but *without* the constraint that each value appears exactly once, and you'd want to be able to specify constraints using syntax something like `s.vars['Sam','Apples'] > s.vars['Taupe','Apples']`. I don't think this is *hard*, per se, but it is *complicated*, and it's unlikely I'll ever get around to it.\n",
    "\n",
    "It'd also be cool to warn you when there are multiple solutions. Maybe someday."
   ]
  }
 ],
 "metadata": {
  "kernelspec": {
   "display_name": "Python 3",
   "language": "python",
   "name": "python3"
  },
  "language_info": {
   "codemirror_mode": {
    "name": "ipython",
    "version": 3
   },
   "file_extension": ".py",
   "mimetype": "text/x-python",
   "name": "python",
   "nbconvert_exporter": "python",
   "pygments_lexer": "ipython3",
   "version": "3.6.0"
  }
 },
 "nbformat": 4,
 "nbformat_minor": 2
}

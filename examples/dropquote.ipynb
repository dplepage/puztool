{
 "cells": [
  {
   "cell_type": "code",
   "execution_count": 1,
   "metadata": {},
   "outputs": [
    {
     "name": "stdout",
     "output_type": "stream",
     "text": [
      "1 -> average\n",
      "3 -> judgment\n",
      "5 -> so\n",
      "7 -> he\n",
      "9 -> a\n",
      "A -> risk\n",
      "E -> uses\n",
      "4 -> is\n",
      "            t       \n",
      "tu          pvos    \n",
      "rhns        monr    \n",
      "meehe      ieaery ti\n",
      "--------------------\n",
      "000 average 2222 jud\n",
      "gment is so 6666 he \n",
      "8888 a risk BBBBB CC\n",
      "CC DD uses FF       \n"
     ]
    }
   ],
   "source": [
    "from puztool.dropquote import DropQuote\n",
    "x = DropQuote([\n",
    "    \"mtgr\", \"emhu\", \"ene\", \"hsn\", \"eta\", \"av\", \"iue\", \"rsrs\",\n",
    "    \"aei\", \"gsss\", \"oke\", \"i\", \"metp\", \"voa\", \"neo\", \"srr\", \"y\",\n",
    "    \"jh\", \"eut\", \"di\"],\n",
    "\"??? ??????? ???? ???\"\n",
    "\"????? ?? ?? ???? ?? \"\n",
    "\"???? ? ???? ????? ??\"\n",
    "\"?? ?? ???? ??\")\n",
    "x.do_obvious() # set any segments that only have one option\n",
    "x.p()"
   ]
  },
  {
   "cell_type": "code",
   "execution_count": 2,
   "metadata": {},
   "outputs": [
    {
     "name": "stdout",
     "output_type": "stream",
     "text": [
      "0 -> men, mun, the, tee, ten (5 more)\n",
      "2 -> mans, moes, mons, moor, moos (9 more)\n",
      "6 -> mans, moes, mons, moor, moos (9 more)\n",
      "8 -> tees, tens, tuns, rees, rens (2 more)\n",
      "B -> moory, tansy, every, pansy, poesy\n",
      "C -> time, tite, tire\n",
      "D -> he, se\n",
      "F -> im, it\n"
     ]
    }
   ],
   "source": [
    "x.opts()"
   ]
  },
  {
   "cell_type": "code",
   "execution_count": 3,
   "metadata": {},
   "outputs": [
    {
     "name": "stdout",
     "output_type": "stream",
     "text": [
      "8 -> runs\n",
      "            poos    \n",
      "            manr    \n",
      "--------------------\n",
      "the average 2222 jud\n",
      "gment is so 6666 he \n",
      "runs a risk every ti\n",
      "me he uses it       \n",
      "2 -> mans, mons, moor, moos, pans (2 more)\n",
      "6 -> mans, mons, moor, moos, pans (2 more)\n"
     ]
    }
   ],
   "source": [
    "x[0] = 'the'\n",
    "x['B'] = 'every'\n",
    "x['C'] = 'time'\n",
    "x['D'] = 'he'\n",
    "x['F'] = 'it'\n",
    "x.do_obvious()\n",
    "x.p()\n",
    "x.opts()"
   ]
  },
  {
   "cell_type": "code",
   "execution_count": 4,
   "metadata": {},
   "outputs": [
    {
     "name": "stdout",
     "output_type": "stream",
     "text": [
      "6 -> poor\n",
      "<bank empty>\n",
      "--------------------\n",
      "the average mans jud\n",
      "gment is so poor he \n",
      "runs a risk every ti\n",
      "me he uses it       \n"
     ]
    }
   ],
   "source": [
    "x[2] = 'mans'\n",
    "x.do_obvious()\n",
    "x.p()"
   ]
  },
  {
   "cell_type": "code",
   "execution_count": 5,
   "metadata": {},
   "outputs": [
    {
     "data": {
      "text/plain": [
       "'the average mans judgment is so poor he runs a risk every time he uses it'"
      ]
     },
     "execution_count": 5,
     "metadata": {},
     "output_type": "execute_result"
    }
   ],
   "source": [
    "x.message()"
   ]
  }
 ],
 "metadata": {
  "kernelspec": {
   "display_name": "Python 3",
   "language": "python",
   "name": "python3"
  },
  "language_info": {
   "codemirror_mode": {
    "name": "ipython",
    "version": 3
   },
   "file_extension": ".py",
   "mimetype": "text/x-python",
   "name": "python",
   "nbconvert_exporter": "python",
   "pygments_lexer": "ipython3",
   "version": "3.7.3"
  }
 },
 "nbformat": 4,
 "nbformat_minor": 4
}
